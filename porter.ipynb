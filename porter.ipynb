{
 "cells": [
  {
   "cell_type": "markdown",
   "metadata": {},
   "source": [
    "# porter\n",
    "\n",
    "Use the \"Run\" button to execute the code."
   ]
  },
  {
   "cell_type": "code",
   "execution_count": 196,
   "metadata": {},
   "outputs": [],
   "source": [
    "import numpy as np\n",
    "import pandas as pd\n",
    "import seaborn as sns\n",
    "import matplotlib.pyplot as plt\n",
    "from scipy.stats import skew\n",
    "from scipy.stats import shapiro\n",
    "from scipy import stats\n",
    "import statsmodels.api as sm"
   ]
  },
  {
   "cell_type": "code",
   "execution_count": 108,
   "metadata": {},
   "outputs": [],
   "source": [
    "df=pd.read_csv('dataset[1].csv')"
   ]
  },
  {
   "cell_type": "code",
   "execution_count": 109,
   "metadata": {
    "scrolled": false
   },
   "outputs": [
    {
     "data": {
      "text/html": [
       "<div>\n",
       "<style scoped>\n",
       "    .dataframe tbody tr th:only-of-type {\n",
       "        vertical-align: middle;\n",
       "    }\n",
       "\n",
       "    .dataframe tbody tr th {\n",
       "        vertical-align: top;\n",
       "    }\n",
       "\n",
       "    .dataframe thead th {\n",
       "        text-align: right;\n",
       "    }\n",
       "</style>\n",
       "<table border=\"1\" class=\"dataframe\">\n",
       "  <thead>\n",
       "    <tr style=\"text-align: right;\">\n",
       "      <th></th>\n",
       "      <th>market_id</th>\n",
       "      <th>created_at</th>\n",
       "      <th>actual_delivery_time</th>\n",
       "      <th>store_id</th>\n",
       "      <th>store_primary_category</th>\n",
       "      <th>order_protocol</th>\n",
       "      <th>total_items</th>\n",
       "      <th>subtotal</th>\n",
       "      <th>num_distinct_items</th>\n",
       "      <th>min_item_price</th>\n",
       "      <th>max_item_price</th>\n",
       "      <th>total_onshift_partners</th>\n",
       "      <th>total_busy_partners</th>\n",
       "      <th>total_outstanding_orders</th>\n",
       "    </tr>\n",
       "  </thead>\n",
       "  <tbody>\n",
       "    <tr>\n",
       "      <th>0</th>\n",
       "      <td>1.0</td>\n",
       "      <td>2015-02-06 22:24:17</td>\n",
       "      <td>2015-02-06 23:27:16</td>\n",
       "      <td>df263d996281d984952c07998dc54358</td>\n",
       "      <td>american</td>\n",
       "      <td>1.0</td>\n",
       "      <td>4</td>\n",
       "      <td>3441</td>\n",
       "      <td>4</td>\n",
       "      <td>557</td>\n",
       "      <td>1239</td>\n",
       "      <td>33.0</td>\n",
       "      <td>14.0</td>\n",
       "      <td>21.0</td>\n",
       "    </tr>\n",
       "    <tr>\n",
       "      <th>1</th>\n",
       "      <td>2.0</td>\n",
       "      <td>2015-02-10 21:49:25</td>\n",
       "      <td>2015-02-10 22:56:29</td>\n",
       "      <td>f0ade77b43923b38237db569b016ba25</td>\n",
       "      <td>mexican</td>\n",
       "      <td>2.0</td>\n",
       "      <td>1</td>\n",
       "      <td>1900</td>\n",
       "      <td>1</td>\n",
       "      <td>1400</td>\n",
       "      <td>1400</td>\n",
       "      <td>1.0</td>\n",
       "      <td>2.0</td>\n",
       "      <td>2.0</td>\n",
       "    </tr>\n",
       "    <tr>\n",
       "      <th>2</th>\n",
       "      <td>3.0</td>\n",
       "      <td>2015-01-22 20:39:28</td>\n",
       "      <td>2015-01-22 21:09:09</td>\n",
       "      <td>f0ade77b43923b38237db569b016ba25</td>\n",
       "      <td>NaN</td>\n",
       "      <td>1.0</td>\n",
       "      <td>1</td>\n",
       "      <td>1900</td>\n",
       "      <td>1</td>\n",
       "      <td>1900</td>\n",
       "      <td>1900</td>\n",
       "      <td>1.0</td>\n",
       "      <td>0.0</td>\n",
       "      <td>0.0</td>\n",
       "    </tr>\n",
       "    <tr>\n",
       "      <th>3</th>\n",
       "      <td>3.0</td>\n",
       "      <td>2015-02-03 21:21:45</td>\n",
       "      <td>2015-02-03 22:13:00</td>\n",
       "      <td>f0ade77b43923b38237db569b016ba25</td>\n",
       "      <td>NaN</td>\n",
       "      <td>1.0</td>\n",
       "      <td>6</td>\n",
       "      <td>6900</td>\n",
       "      <td>5</td>\n",
       "      <td>600</td>\n",
       "      <td>1800</td>\n",
       "      <td>1.0</td>\n",
       "      <td>1.0</td>\n",
       "      <td>2.0</td>\n",
       "    </tr>\n",
       "    <tr>\n",
       "      <th>4</th>\n",
       "      <td>3.0</td>\n",
       "      <td>2015-02-15 02:40:36</td>\n",
       "      <td>2015-02-15 03:20:26</td>\n",
       "      <td>f0ade77b43923b38237db569b016ba25</td>\n",
       "      <td>NaN</td>\n",
       "      <td>1.0</td>\n",
       "      <td>3</td>\n",
       "      <td>3900</td>\n",
       "      <td>3</td>\n",
       "      <td>1100</td>\n",
       "      <td>1600</td>\n",
       "      <td>6.0</td>\n",
       "      <td>6.0</td>\n",
       "      <td>9.0</td>\n",
       "    </tr>\n",
       "  </tbody>\n",
       "</table>\n",
       "</div>"
      ],
      "text/plain": [
       "   market_id           created_at actual_delivery_time  \\\n",
       "0        1.0  2015-02-06 22:24:17  2015-02-06 23:27:16   \n",
       "1        2.0  2015-02-10 21:49:25  2015-02-10 22:56:29   \n",
       "2        3.0  2015-01-22 20:39:28  2015-01-22 21:09:09   \n",
       "3        3.0  2015-02-03 21:21:45  2015-02-03 22:13:00   \n",
       "4        3.0  2015-02-15 02:40:36  2015-02-15 03:20:26   \n",
       "\n",
       "                           store_id store_primary_category  order_protocol  \\\n",
       "0  df263d996281d984952c07998dc54358               american             1.0   \n",
       "1  f0ade77b43923b38237db569b016ba25                mexican             2.0   \n",
       "2  f0ade77b43923b38237db569b016ba25                    NaN             1.0   \n",
       "3  f0ade77b43923b38237db569b016ba25                    NaN             1.0   \n",
       "4  f0ade77b43923b38237db569b016ba25                    NaN             1.0   \n",
       "\n",
       "   total_items  subtotal  num_distinct_items  min_item_price  max_item_price  \\\n",
       "0            4      3441                   4             557            1239   \n",
       "1            1      1900                   1            1400            1400   \n",
       "2            1      1900                   1            1900            1900   \n",
       "3            6      6900                   5             600            1800   \n",
       "4            3      3900                   3            1100            1600   \n",
       "\n",
       "   total_onshift_partners  total_busy_partners  total_outstanding_orders  \n",
       "0                    33.0                 14.0                      21.0  \n",
       "1                     1.0                  2.0                       2.0  \n",
       "2                     1.0                  0.0                       0.0  \n",
       "3                     1.0                  1.0                       2.0  \n",
       "4                     6.0                  6.0                       9.0  "
      ]
     },
     "execution_count": 109,
     "metadata": {},
     "output_type": "execute_result"
    }
   ],
   "source": [
    "df.head()"
   ]
  },
  {
   "cell_type": "code",
   "execution_count": 110,
   "metadata": {},
   "outputs": [
    {
     "data": {
      "text/plain": [
       "(197428, 14)"
      ]
     },
     "execution_count": 110,
     "metadata": {},
     "output_type": "execute_result"
    }
   ],
   "source": [
    "df.shape"
   ]
  },
  {
   "cell_type": "code",
   "execution_count": 111,
   "metadata": {},
   "outputs": [
    {
     "name": "stdout",
     "output_type": "stream",
     "text": [
      "<class 'pandas.core.frame.DataFrame'>\n",
      "RangeIndex: 197428 entries, 0 to 197427\n",
      "Data columns (total 14 columns):\n",
      " #   Column                    Non-Null Count   Dtype  \n",
      "---  ------                    --------------   -----  \n",
      " 0   market_id                 196441 non-null  float64\n",
      " 1   created_at                197428 non-null  object \n",
      " 2   actual_delivery_time      197421 non-null  object \n",
      " 3   store_id                  197428 non-null  object \n",
      " 4   store_primary_category    192668 non-null  object \n",
      " 5   order_protocol            196433 non-null  float64\n",
      " 6   total_items               197428 non-null  int64  \n",
      " 7   subtotal                  197428 non-null  int64  \n",
      " 8   num_distinct_items        197428 non-null  int64  \n",
      " 9   min_item_price            197428 non-null  int64  \n",
      " 10  max_item_price            197428 non-null  int64  \n",
      " 11  total_onshift_partners    181166 non-null  float64\n",
      " 12  total_busy_partners       181166 non-null  float64\n",
      " 13  total_outstanding_orders  181166 non-null  float64\n",
      "dtypes: float64(5), int64(5), object(4)\n",
      "memory usage: 21.1+ MB\n"
     ]
    }
   ],
   "source": [
    "df.info()"
   ]
  },
  {
   "cell_type": "code",
   "execution_count": 112,
   "metadata": {},
   "outputs": [
    {
     "data": {
      "text/html": [
       "<div>\n",
       "<style scoped>\n",
       "    .dataframe tbody tr th:only-of-type {\n",
       "        vertical-align: middle;\n",
       "    }\n",
       "\n",
       "    .dataframe tbody tr th {\n",
       "        vertical-align: top;\n",
       "    }\n",
       "\n",
       "    .dataframe thead th {\n",
       "        text-align: right;\n",
       "    }\n",
       "</style>\n",
       "<table border=\"1\" class=\"dataframe\">\n",
       "  <thead>\n",
       "    <tr style=\"text-align: right;\">\n",
       "      <th></th>\n",
       "      <th>market_id</th>\n",
       "      <th>order_protocol</th>\n",
       "      <th>total_items</th>\n",
       "      <th>subtotal</th>\n",
       "      <th>num_distinct_items</th>\n",
       "      <th>min_item_price</th>\n",
       "      <th>max_item_price</th>\n",
       "      <th>total_onshift_partners</th>\n",
       "      <th>total_busy_partners</th>\n",
       "      <th>total_outstanding_orders</th>\n",
       "    </tr>\n",
       "  </thead>\n",
       "  <tbody>\n",
       "    <tr>\n",
       "      <th>count</th>\n",
       "      <td>196441.000000</td>\n",
       "      <td>196433.000000</td>\n",
       "      <td>197428.000000</td>\n",
       "      <td>197428.000000</td>\n",
       "      <td>197428.000000</td>\n",
       "      <td>197428.000000</td>\n",
       "      <td>197428.000000</td>\n",
       "      <td>181166.000000</td>\n",
       "      <td>181166.000000</td>\n",
       "      <td>181166.000000</td>\n",
       "    </tr>\n",
       "    <tr>\n",
       "      <th>mean</th>\n",
       "      <td>2.978706</td>\n",
       "      <td>2.882352</td>\n",
       "      <td>3.196391</td>\n",
       "      <td>2682.331402</td>\n",
       "      <td>2.670791</td>\n",
       "      <td>686.218470</td>\n",
       "      <td>1159.588630</td>\n",
       "      <td>44.808093</td>\n",
       "      <td>41.739747</td>\n",
       "      <td>58.050065</td>\n",
       "    </tr>\n",
       "    <tr>\n",
       "      <th>std</th>\n",
       "      <td>1.524867</td>\n",
       "      <td>1.503771</td>\n",
       "      <td>2.666546</td>\n",
       "      <td>1823.093688</td>\n",
       "      <td>1.630255</td>\n",
       "      <td>522.038648</td>\n",
       "      <td>558.411377</td>\n",
       "      <td>34.526783</td>\n",
       "      <td>32.145733</td>\n",
       "      <td>52.661830</td>\n",
       "    </tr>\n",
       "    <tr>\n",
       "      <th>min</th>\n",
       "      <td>1.000000</td>\n",
       "      <td>1.000000</td>\n",
       "      <td>1.000000</td>\n",
       "      <td>0.000000</td>\n",
       "      <td>1.000000</td>\n",
       "      <td>-86.000000</td>\n",
       "      <td>0.000000</td>\n",
       "      <td>-4.000000</td>\n",
       "      <td>-5.000000</td>\n",
       "      <td>-6.000000</td>\n",
       "    </tr>\n",
       "    <tr>\n",
       "      <th>25%</th>\n",
       "      <td>2.000000</td>\n",
       "      <td>1.000000</td>\n",
       "      <td>2.000000</td>\n",
       "      <td>1400.000000</td>\n",
       "      <td>1.000000</td>\n",
       "      <td>299.000000</td>\n",
       "      <td>800.000000</td>\n",
       "      <td>17.000000</td>\n",
       "      <td>15.000000</td>\n",
       "      <td>17.000000</td>\n",
       "    </tr>\n",
       "    <tr>\n",
       "      <th>50%</th>\n",
       "      <td>3.000000</td>\n",
       "      <td>3.000000</td>\n",
       "      <td>3.000000</td>\n",
       "      <td>2200.000000</td>\n",
       "      <td>2.000000</td>\n",
       "      <td>595.000000</td>\n",
       "      <td>1095.000000</td>\n",
       "      <td>37.000000</td>\n",
       "      <td>34.000000</td>\n",
       "      <td>41.000000</td>\n",
       "    </tr>\n",
       "    <tr>\n",
       "      <th>75%</th>\n",
       "      <td>4.000000</td>\n",
       "      <td>4.000000</td>\n",
       "      <td>4.000000</td>\n",
       "      <td>3395.000000</td>\n",
       "      <td>3.000000</td>\n",
       "      <td>949.000000</td>\n",
       "      <td>1395.000000</td>\n",
       "      <td>65.000000</td>\n",
       "      <td>62.000000</td>\n",
       "      <td>85.000000</td>\n",
       "    </tr>\n",
       "    <tr>\n",
       "      <th>max</th>\n",
       "      <td>6.000000</td>\n",
       "      <td>7.000000</td>\n",
       "      <td>411.000000</td>\n",
       "      <td>27100.000000</td>\n",
       "      <td>20.000000</td>\n",
       "      <td>14700.000000</td>\n",
       "      <td>14700.000000</td>\n",
       "      <td>171.000000</td>\n",
       "      <td>154.000000</td>\n",
       "      <td>285.000000</td>\n",
       "    </tr>\n",
       "  </tbody>\n",
       "</table>\n",
       "</div>"
      ],
      "text/plain": [
       "           market_id  order_protocol    total_items       subtotal  \\\n",
       "count  196441.000000   196433.000000  197428.000000  197428.000000   \n",
       "mean        2.978706        2.882352       3.196391    2682.331402   \n",
       "std         1.524867        1.503771       2.666546    1823.093688   \n",
       "min         1.000000        1.000000       1.000000       0.000000   \n",
       "25%         2.000000        1.000000       2.000000    1400.000000   \n",
       "50%         3.000000        3.000000       3.000000    2200.000000   \n",
       "75%         4.000000        4.000000       4.000000    3395.000000   \n",
       "max         6.000000        7.000000     411.000000   27100.000000   \n",
       "\n",
       "       num_distinct_items  min_item_price  max_item_price  \\\n",
       "count       197428.000000   197428.000000   197428.000000   \n",
       "mean             2.670791      686.218470     1159.588630   \n",
       "std              1.630255      522.038648      558.411377   \n",
       "min              1.000000      -86.000000        0.000000   \n",
       "25%              1.000000      299.000000      800.000000   \n",
       "50%              2.000000      595.000000     1095.000000   \n",
       "75%              3.000000      949.000000     1395.000000   \n",
       "max             20.000000    14700.000000    14700.000000   \n",
       "\n",
       "       total_onshift_partners  total_busy_partners  total_outstanding_orders  \n",
       "count           181166.000000        181166.000000             181166.000000  \n",
       "mean                44.808093            41.739747                 58.050065  \n",
       "std                 34.526783            32.145733                 52.661830  \n",
       "min                 -4.000000            -5.000000                 -6.000000  \n",
       "25%                 17.000000            15.000000                 17.000000  \n",
       "50%                 37.000000            34.000000                 41.000000  \n",
       "75%                 65.000000            62.000000                 85.000000  \n",
       "max                171.000000           154.000000                285.000000  "
      ]
     },
     "execution_count": 112,
     "metadata": {},
     "output_type": "execute_result"
    }
   ],
   "source": [
    "df.describe()"
   ]
  },
  {
   "cell_type": "code",
   "execution_count": 113,
   "metadata": {},
   "outputs": [
    {
     "data": {
      "image/png": "[encoded data removed]",
      "text/plain": [
       "<Figure size 432x288 with 2 Axes>"
      ]
     },
     "metadata": {
      "needs_background": "light"
     },
     "output_type": "display_data"
    }
   ],
   "source": [
    "sns.heatmap(df.corr())\n",
    "plt.show()"
   ]
  },
  {
   "cell_type": "code",
   "execution_count": 114,
   "metadata": {},
   "outputs": [
    {
     "data": {
      "text/plain": [
       "(array([4.5860e+03, 1.4545e+04, 1.6225e+04, 1.6821e+04, 1.6549e+04,\n",
       "        1.0715e+04, 1.1027e+04, 1.0833e+04, 1.0133e+04, 1.0071e+04,\n",
       "        8.4260e+03, 6.1130e+03, 6.7540e+03, 5.5020e+03, 4.3720e+03,\n",
       "        4.3800e+03, 3.9260e+03, 3.6790e+03, 3.7010e+03, 2.8740e+03,\n",
       "        2.5720e+03, 1.9680e+03, 2.2990e+03, 1.2360e+03, 8.6500e+02,\n",
       "        4.5200e+02, 4.0000e+02, 1.2600e+02, 1.3000e+01, 3.0000e+00]),\n",
       " array([ -4.        ,   1.83333333,   7.66666667,  13.5       ,\n",
       "         19.33333333,  25.16666667,  31.        ,  36.83333333,\n",
       "         42.66666667,  48.5       ,  54.33333333,  60.16666667,\n",
       "         66.        ,  71.83333333,  77.66666667,  83.5       ,\n",
       "         89.33333333,  95.16666667, 101.        , 106.83333333,\n",
       "        112.66666667, 118.5       , 124.33333333, 130.16666667,\n",
       "        136.        , 141.83333333, 147.66666667, 153.5       ,\n",
       "        159.33333333, 165.16666667, 171.        ]),\n",
       " <BarContainer object of 30 artists>)"
      ]
     },
     "execution_count": 114,
     "metadata": {},
     "output_type": "execute_result"
    },
    {
     "data": {
      "image/png": "[encoded data removed]",
      "text/plain": [
       "<Figure size 432x288 with 1 Axes>"
      ]
     },
     "metadata": {
      "needs_background": "light"
     },
     "output_type": "display_data"
    }
   ],
   "source": [
    "plt.hist(df['total_onshift_partners'], bins=30)"
   ]
  },
  {
   "cell_type": "markdown",
   "metadata": {},
   "source": [
    "#### Creation of column Delivery Time"
   ]
  },
  {
   "cell_type": "code",
   "execution_count": 115,
   "metadata": {},
   "outputs": [],
   "source": [
    "df['created_at'] = pd.to_datetime(df['created_at'])"
   ]
  },
  {
   "cell_type": "code",
   "execution_count": 116,
   "metadata": {},
   "outputs": [],
   "source": [
    "df['actual_delivery_time'] = pd.to_datetime(df['actual_delivery_time'])"
   ]
  },
  {
   "cell_type": "code",
   "execution_count": 117,
   "metadata": {},
   "outputs": [
    {
     "data": {
      "text/plain": [
       "0         62.983333\n",
       "1         67.066667\n",
       "2         29.683333\n",
       "3         51.250000\n",
       "4         39.833333\n",
       "            ...    \n",
       "197423    65.116667\n",
       "197424    56.383333\n",
       "197425    50.133333\n",
       "197426    65.116667\n",
       "197427    37.133333\n",
       "Name: Delivery Time, Length: 197428, dtype: float64"
      ]
     },
     "execution_count": 117,
     "metadata": {},
     "output_type": "execute_result"
    }
   ],
   "source": [
    "df['Delivery Time'] = (df['actual_delivery_time'] - df['created_at']).dt.total_seconds() / 60\n",
    "df['Delivery Time']"
   ]
  },
  {
   "cell_type": "markdown",
   "metadata": {},
   "source": [
    "#### Relationship between dependent and independent variable"
   ]
  },
  {
   "cell_type": "code",
   "execution_count": 118,
   "metadata": {},
   "outputs": [
    {
     "name": "stdout",
     "output_type": "stream",
     "text": [
      "<class 'pandas.core.frame.DataFrame'>\n",
      "RangeIndex: 197428 entries, 0 to 197427\n",
      "Data columns (total 15 columns):\n",
      " #   Column                    Non-Null Count   Dtype         \n",
      "---  ------                    --------------   -----         \n",
      " 0   market_id                 196441 non-null  float64       \n",
      " 1   created_at                197428 non-null  datetime64[ns]\n",
      " 2   actual_delivery_time      197421 non-null  datetime64[ns]\n",
      " 3   store_id                  197428 non-null  object        \n",
      " 4   store_primary_category    192668 non-null  object        \n",
      " 5   order_protocol            196433 non-null  float64       \n",
      " 6   total_items               197428 non-null  int64         \n",
      " 7   subtotal                  197428 non-null  int64         \n",
      " 8   num_distinct_items        197428 non-null  int64         \n",
      " 9   min_item_price            197428 non-null  int64         \n",
      " 10  max_item_price            197428 non-null  int64         \n",
      " 11  total_onshift_partners    181166 non-null  float64       \n",
      " 12  total_busy_partners       181166 non-null  float64       \n",
      " 13  total_outstanding_orders  181166 non-null  float64       \n",
      " 14  Delivery Time             197421 non-null  float64       \n",
      "dtypes: datetime64[ns](2), float64(6), int64(5), object(2)\n",
      "memory usage: 22.6+ MB\n"
     ]
    }
   ],
   "source": [
    "## Finding Numerical features\n",
    "\n",
    "df.info()"
   ]
  },
  {
   "cell_type": "code",
   "execution_count": 119,
   "metadata": {
    "scrolled": true
   },
   "outputs": [
    {
     "data": {
      "image/png": "[encoded data removed]",
      "text/plain": [
       "<Figure size 432x288 with 1 Axes>"
      ]
     },
     "metadata": {
      "needs_background": "light"
     },
     "output_type": "display_data"
    },
    {
     "data": {
      "image/png": "[encoded data removed]",
      "text/plain": [
       "<Figure size 432x288 with 1 Axes>"
      ]
     },
     "metadata": {
      "needs_background": "light"
     },
     "output_type": "display_data"
    }
   ],
   "source": [
    "## Here some numerical variables are discrete and some are continuous \n",
    "\n",
    "## Lets check the relationship of dependent with numerical independent variable\n",
    "\n",
    "discrete_features = ['order_protocol','num_distinct_items']\n",
    "\n",
    "for feature in discrete_features:\n",
    "    data=df.copy()\n",
    "    data.groupby(feature)['Delivery Time'].median().plot.bar()\n",
    "    plt.xlabel(feature)\n",
    "    plt.ylabel('Delivery Time')\n",
    "    plt.show()"
   ]
  },
  {
   "cell_type": "code",
   "execution_count": 120,
   "metadata": {},
   "outputs": [
    {
     "data": {
      "image/png": "[encoded data removed]",
      "text/plain": [
       "<Figure size 432x288 with 1 Axes>"
      ]
     },
     "metadata": {
      "needs_background": "light"
     },
     "output_type": "display_data"
    },
    {
     "data": {
      "image/png": "[encoded data removed]",
      "text/plain": [
       "<Figure size 432x288 with 1 Axes>"
      ]
     },
     "metadata": {
      "needs_background": "light"
     },
     "output_type": "display_data"
    },
    {
     "data": {
      "image/png": "[encoded data removed]",
      "text/plain": [
       "<Figure size 432x288 with 1 Axes>"
      ]
     },
     "metadata": {
      "needs_background": "light"
     },
     "output_type": "display_data"
    },
    {
     "data": {
      "image/png": "[encoded data removed]",
      "text/plain": [
       "<Figure size 432x288 with 1 Axes>"
      ]
     },
     "metadata": {
      "needs_background": "light"
     },
     "output_type": "display_data"
    },
    {
     "data": {
      "image/png": "[encoded data removed]",
      "text/plain": [
       "<Figure size 432x288 with 1 Axes>"
      ]
     },
     "metadata": {
      "needs_background": "light"
     },
     "output_type": "display_data"
    },
    {
     "data": {
      "image/png": "[encoded data removed]",
      "text/plain": [
       "<Figure size 432x288 with 1 Axes>"
      ]
     },
     "metadata": {
      "needs_background": "light"
     },
     "output_type": "display_data"
    },
    {
     "data": {
      "image/png": "[encoded data removed]",
      "text/plain": [
       "<Figure size 432x288 with 1 Axes>"
      ]
     },
     "metadata": {
      "needs_background": "light"
     },
     "output_type": "display_data"
    },
    {
     "data": {
      "image/png": "[encoded data removed]",
      "text/plain": [
       "<Figure size 432x288 with 1 Axes>"
      ]
     },
     "metadata": {
      "needs_background": "light"
     },
     "output_type": "display_data"
    }
   ],
   "source": [
    "continuous_features = ['total_items','subtotal','min_item_price','max_item_price','total_onshift_partners','total_busy_partners','total_outstanding_orders','Delivery Time']\n",
    "\n",
    "for feature in continuous_features:\n",
    "    data1=df.copy()\n",
    "    data1[feature].hist(bins=25)\n",
    "    plt.xlabel(feature)\n",
    "    plt.ylabel('Count')\n",
    "    plt.title(feature)\n",
    "    plt.show()"
   ]
  },
  {
   "cell_type": "code",
   "execution_count": 121,
   "metadata": {},
   "outputs": [],
   "source": [
    "### If varibale has zero value than use np.log1p for normalisation or transformation of data"
   ]
  },
  {
   "cell_type": "code",
   "execution_count": 122,
   "metadata": {
    "scrolled": true
   },
   "outputs": [
    {
     "data": {
      "image/png": "[encoded data removed]",
      "text/plain": [
       "<Figure size 432x288 with 1 Axes>"
      ]
     },
     "metadata": {
      "needs_background": "light"
     },
     "output_type": "display_data"
    },
    {
     "name": "stderr",
     "output_type": "stream",
     "text": [
      "/opt/conda/lib/python3.9/site-packages/pandas/core/arraylike.py:364: RuntimeWarning: divide by zero encountered in log\n",
      "  result = getattr(ufunc, method)(*inputs, **kwargs)\n"
     ]
    },
    {
     "data": {
      "image/png": "[encoded data removed]",
      "text/plain": [
       "<Figure size 432x288 with 1 Axes>"
      ]
     },
     "metadata": {
      "needs_background": "light"
     },
     "output_type": "display_data"
    },
    {
     "name": "stderr",
     "output_type": "stream",
     "text": [
      "/opt/conda/lib/python3.9/site-packages/pandas/core/arraylike.py:364: RuntimeWarning: invalid value encountered in log\n",
      "  result = getattr(ufunc, method)(*inputs, **kwargs)\n"
     ]
    },
    {
     "data": {
      "image/png": "[encoded data removed]",
      "text/plain": [
       "<Figure size 432x288 with 1 Axes>"
      ]
     },
     "metadata": {
      "needs_background": "light"
     },
     "output_type": "display_data"
    },
    {
     "data": {
      "image/png": "[encoded data removed]",
      "text/plain": [
       "<Figure size 432x288 with 1 Axes>"
      ]
     },
     "metadata": {
      "needs_background": "light"
     },
     "output_type": "display_data"
    },
    {
     "data": {
      "image/png": "[encoded data removed]",
      "text/plain": [
       "<Figure size 432x288 with 1 Axes>"
      ]
     },
     "metadata": {
      "needs_background": "light"
     },
     "output_type": "display_data"
    },
    {
     "data": {
      "image/png": "[encoded data removed]",
      "text/plain": [
       "<Figure size 432x288 with 1 Axes>"
      ]
     },
     "metadata": {
      "needs_background": "light"
     },
     "output_type": "display_data"
    },
    {
     "data": {
      "image/png": "[encoded data removed]",
      "text/plain": [
       "<Figure size 432x288 with 1 Axes>"
      ]
     },
     "metadata": {
      "needs_background": "light"
     },
     "output_type": "display_data"
    },
    {
     "data": {
      "image/png": "[encoded data removed]",
      "text/plain": [
       "<Figure size 432x288 with 1 Axes>"
      ]
     },
     "metadata": {
      "needs_background": "light"
     },
     "output_type": "display_data"
    }
   ],
   "source": [
    "for feature in continuous_features:\n",
    "    data3=df.copy()\n",
    "    data3[feature] = np.log(data3[feature])\n",
    "    data3['Delivery Time'] = np.log(data3['Delivery Time'])\n",
    "    plt.scatter(data3[feature],data3['Delivery Time'])\n",
    "    plt.xlabel(feature)\n",
    "    plt.ylabel('Delivery Time')\n",
    "    plt.title(feature)\n",
    "    plt.show()"
   ]
  },
  {
   "cell_type": "code",
   "execution_count": 123,
   "metadata": {},
   "outputs": [
    {
     "data": {
      "text/plain": [
       "160"
      ]
     },
     "execution_count": 123,
     "metadata": {},
     "output_type": "execute_result"
    }
   ],
   "source": [
    "len(df['total_busy_partners'].unique())"
   ]
  },
  {
   "cell_type": "markdown",
   "metadata": {},
   "source": [
    "### Finding and removing Duplicate observation"
   ]
  },
  {
   "cell_type": "code",
   "execution_count": 124,
   "metadata": {},
   "outputs": [
    {
     "data": {
      "text/html": [
       "<div>\n",
       "<style scoped>\n",
       "    .dataframe tbody tr th:only-of-type {\n",
       "        vertical-align: middle;\n",
       "    }\n",
       "\n",
       "    .dataframe tbody tr th {\n",
       "        vertical-align: top;\n",
       "    }\n",
       "\n",
       "    .dataframe thead th {\n",
       "        text-align: right;\n",
       "    }\n",
       "</style>\n",
       "<table border=\"1\" class=\"dataframe\">\n",
       "  <thead>\n",
       "    <tr style=\"text-align: right;\">\n",
       "      <th></th>\n",
       "      <th>market_id</th>\n",
       "      <th>created_at</th>\n",
       "      <th>actual_delivery_time</th>\n",
       "      <th>store_id</th>\n",
       "      <th>store_primary_category</th>\n",
       "      <th>order_protocol</th>\n",
       "      <th>total_items</th>\n",
       "      <th>subtotal</th>\n",
       "      <th>num_distinct_items</th>\n",
       "      <th>min_item_price</th>\n",
       "      <th>max_item_price</th>\n",
       "      <th>total_onshift_partners</th>\n",
       "      <th>total_busy_partners</th>\n",
       "      <th>total_outstanding_orders</th>\n",
       "      <th>Delivery Time</th>\n",
       "    </tr>\n",
       "  </thead>\n",
       "  <tbody>\n",
       "  </tbody>\n",
       "</table>\n",
       "</div>"
      ],
      "text/plain": [
       "Empty DataFrame\n",
       "Columns: [market_id, created_at, actual_delivery_time, store_id, store_primary_category, order_protocol, total_items, subtotal, num_distinct_items, min_item_price, max_item_price, total_onshift_partners, total_busy_partners, total_outstanding_orders, Delivery Time]\n",
       "Index: []"
      ]
     },
     "execution_count": 124,
     "metadata": {},
     "output_type": "execute_result"
    }
   ],
   "source": [
    "df[df.duplicated()]"
   ]
  },
  {
   "cell_type": "markdown",
   "metadata": {},
   "source": [
    "There is no repeat observation or record in dataset available."
   ]
  },
  {
   "cell_type": "markdown",
   "metadata": {},
   "source": [
    "#### Removing null values"
   ]
  },
  {
   "cell_type": "code",
   "execution_count": 125,
   "metadata": {},
   "outputs": [
    {
     "data": {
      "text/plain": [
       "market_id                     987\n",
       "created_at                      0\n",
       "actual_delivery_time            7\n",
       "store_id                        0\n",
       "store_primary_category       4760\n",
       "order_protocol                995\n",
       "total_items                     0\n",
       "subtotal                        0\n",
       "num_distinct_items              0\n",
       "min_item_price                  0\n",
       "max_item_price                  0\n",
       "total_onshift_partners      16262\n",
       "total_busy_partners         16262\n",
       "total_outstanding_orders    16262\n",
       "Delivery Time                   7\n",
       "dtype: int64"
      ]
     },
     "execution_count": 125,
     "metadata": {},
     "output_type": "execute_result"
    }
   ],
   "source": [
    "df.isnull().sum()"
   ]
  },
  {
   "cell_type": "code",
   "execution_count": 126,
   "metadata": {},
   "outputs": [],
   "source": [
    "df.drop({'created_at','actual_delivery_time'},axis=1,inplace=True)"
   ]
  },
  {
   "cell_type": "code",
   "execution_count": 127,
   "metadata": {},
   "outputs": [
    {
     "data": {
      "text/html": [
       "<div>\n",
       "<style scoped>\n",
       "    .dataframe tbody tr th:only-of-type {\n",
       "        vertical-align: middle;\n",
       "    }\n",
       "\n",
       "    .dataframe tbody tr th {\n",
       "        vertical-align: top;\n",
       "    }\n",
       "\n",
       "    .dataframe thead th {\n",
       "        text-align: right;\n",
       "    }\n",
       "</style>\n",
       "<table border=\"1\" class=\"dataframe\">\n",
       "  <thead>\n",
       "    <tr style=\"text-align: right;\">\n",
       "      <th></th>\n",
       "      <th>market_id</th>\n",
       "      <th>store_id</th>\n",
       "      <th>store_primary_category</th>\n",
       "      <th>order_protocol</th>\n",
       "      <th>total_items</th>\n",
       "      <th>subtotal</th>\n",
       "      <th>num_distinct_items</th>\n",
       "      <th>min_item_price</th>\n",
       "      <th>max_item_price</th>\n",
       "      <th>total_onshift_partners</th>\n",
       "      <th>total_busy_partners</th>\n",
       "      <th>total_outstanding_orders</th>\n",
       "      <th>Delivery Time</th>\n",
       "    </tr>\n",
       "  </thead>\n",
       "  <tbody>\n",
       "    <tr>\n",
       "      <th>0</th>\n",
       "      <td>1.0</td>\n",
       "      <td>df263d996281d984952c07998dc54358</td>\n",
       "      <td>american</td>\n",
       "      <td>1.0</td>\n",
       "      <td>4</td>\n",
       "      <td>3441</td>\n",
       "      <td>4</td>\n",
       "      <td>557</td>\n",
       "      <td>1239</td>\n",
       "      <td>33.0</td>\n",
       "      <td>14.0</td>\n",
       "      <td>21.0</td>\n",
       "      <td>62.983333</td>\n",
       "    </tr>\n",
       "    <tr>\n",
       "      <th>1</th>\n",
       "      <td>2.0</td>\n",
       "      <td>f0ade77b43923b38237db569b016ba25</td>\n",
       "      <td>mexican</td>\n",
       "      <td>2.0</td>\n",
       "      <td>1</td>\n",
       "      <td>1900</td>\n",
       "      <td>1</td>\n",
       "      <td>1400</td>\n",
       "      <td>1400</td>\n",
       "      <td>1.0</td>\n",
       "      <td>2.0</td>\n",
       "      <td>2.0</td>\n",
       "      <td>67.066667</td>\n",
       "    </tr>\n",
       "    <tr>\n",
       "      <th>2</th>\n",
       "      <td>3.0</td>\n",
       "      <td>f0ade77b43923b38237db569b016ba25</td>\n",
       "      <td>NaN</td>\n",
       "      <td>1.0</td>\n",
       "      <td>1</td>\n",
       "      <td>1900</td>\n",
       "      <td>1</td>\n",
       "      <td>1900</td>\n",
       "      <td>1900</td>\n",
       "      <td>1.0</td>\n",
       "      <td>0.0</td>\n",
       "      <td>0.0</td>\n",
       "      <td>29.683333</td>\n",
       "    </tr>\n",
       "    <tr>\n",
       "      <th>3</th>\n",
       "      <td>3.0</td>\n",
       "      <td>f0ade77b43923b38237db569b016ba25</td>\n",
       "      <td>NaN</td>\n",
       "      <td>1.0</td>\n",
       "      <td>6</td>\n",
       "      <td>6900</td>\n",
       "      <td>5</td>\n",
       "      <td>600</td>\n",
       "      <td>1800</td>\n",
       "      <td>1.0</td>\n",
       "      <td>1.0</td>\n",
       "      <td>2.0</td>\n",
       "      <td>51.250000</td>\n",
       "    </tr>\n",
       "    <tr>\n",
       "      <th>4</th>\n",
       "      <td>3.0</td>\n",
       "      <td>f0ade77b43923b38237db569b016ba25</td>\n",
       "      <td>NaN</td>\n",
       "      <td>1.0</td>\n",
       "      <td>3</td>\n",
       "      <td>3900</td>\n",
       "      <td>3</td>\n",
       "      <td>1100</td>\n",
       "      <td>1600</td>\n",
       "      <td>6.0</td>\n",
       "      <td>6.0</td>\n",
       "      <td>9.0</td>\n",
       "      <td>39.833333</td>\n",
       "    </tr>\n",
       "  </tbody>\n",
       "</table>\n",
       "</div>"
      ],
      "text/plain": [
       "   market_id                          store_id store_primary_category  \\\n",
       "0        1.0  df263d996281d984952c07998dc54358               american   \n",
       "1        2.0  f0ade77b43923b38237db569b016ba25                mexican   \n",
       "2        3.0  f0ade77b43923b38237db569b016ba25                    NaN   \n",
       "3        3.0  f0ade77b43923b38237db569b016ba25                    NaN   \n",
       "4        3.0  f0ade77b43923b38237db569b016ba25                    NaN   \n",
       "\n",
       "   order_protocol  total_items  subtotal  num_distinct_items  min_item_price  \\\n",
       "0             1.0            4      3441                   4             557   \n",
       "1             2.0            1      1900                   1            1400   \n",
       "2             1.0            1      1900                   1            1900   \n",
       "3             1.0            6      6900                   5             600   \n",
       "4             1.0            3      3900                   3            1100   \n",
       "\n",
       "   max_item_price  total_onshift_partners  total_busy_partners  \\\n",
       "0            1239                    33.0                 14.0   \n",
       "1            1400                     1.0                  2.0   \n",
       "2            1900                     1.0                  0.0   \n",
       "3            1800                     1.0                  1.0   \n",
       "4            1600                     6.0                  6.0   \n",
       "\n",
       "   total_outstanding_orders  Delivery Time  \n",
       "0                      21.0      62.983333  \n",
       "1                       2.0      67.066667  \n",
       "2                       0.0      29.683333  \n",
       "3                       2.0      51.250000  \n",
       "4                       9.0      39.833333  "
      ]
     },
     "execution_count": 127,
     "metadata": {},
     "output_type": "execute_result"
    }
   ],
   "source": [
    "df.head()"
   ]
  },
  {
   "cell_type": "code",
   "execution_count": 128,
   "metadata": {},
   "outputs": [
    {
     "data": {
      "text/plain": [
       "market_id                     987\n",
       "store_id                        0\n",
       "store_primary_category       4760\n",
       "order_protocol                995\n",
       "total_items                     0\n",
       "subtotal                        0\n",
       "num_distinct_items              0\n",
       "min_item_price                  0\n",
       "max_item_price                  0\n",
       "total_onshift_partners      16262\n",
       "total_busy_partners         16262\n",
       "total_outstanding_orders    16262\n",
       "Delivery Time                   7\n",
       "dtype: int64"
      ]
     },
     "execution_count": 128,
     "metadata": {},
     "output_type": "execute_result"
    }
   ],
   "source": [
    "df.isnull().sum()"
   ]
  },
  {
   "cell_type": "code",
   "execution_count": 129,
   "metadata": {},
   "outputs": [],
   "source": [
    "## As there are so many missing values need to  hanle it , first check the relationship of indepenent varible with dependent variable"
   ]
  },
  {
   "cell_type": "code",
   "execution_count": 130,
   "metadata": {},
   "outputs": [
    {
     "data": {
      "text/plain": [
       "['market_id',\n",
       " 'store_primary_category',\n",
       " 'order_protocol',\n",
       " 'total_onshift_partners',\n",
       " 'total_busy_partners',\n",
       " 'total_outstanding_orders',\n",
       " 'Delivery Time']"
      ]
     },
     "execution_count": 130,
     "metadata": {},
     "output_type": "execute_result"
    }
   ],
   "source": [
    "features_with_na=[features for features in df.columns if df[features].isnull().sum() > 1]\n",
    "features_with_na"
   ]
  },
  {
   "cell_type": "code",
   "execution_count": 131,
   "metadata": {},
   "outputs": [
    {
     "data": {
      "image/png": "[encoded data removed]",
      "text/plain": [
       "<Figure size 432x288 with 1 Axes>"
      ]
     },
     "metadata": {
      "needs_background": "light"
     },
     "output_type": "display_data"
    },
    {
     "data": {
      "image/png": "[encoded data removed]",
      "text/plain": [
       "<Figure size 432x288 with 1 Axes>"
      ]
     },
     "metadata": {
      "needs_background": "light"
     },
     "output_type": "display_data"
    },
    {
     "data": {
      "image/png": "[encoded data removed]",
      "text/plain": [
       "<Figure size 432x288 with 1 Axes>"
      ]
     },
     "metadata": {
      "needs_background": "light"
     },
     "output_type": "display_data"
    },
    {
     "data": {
      "image/png": "[encoded data removed]",
      "text/plain": [
       "<Figure size 432x288 with 1 Axes>"
      ]
     },
     "metadata": {
      "needs_background": "light"
     },
     "output_type": "display_data"
    },
    {
     "data": {
      "image/png": "[encoded data removed]",
      "text/plain": [
       "<Figure size 432x288 with 1 Axes>"
      ]
     },
     "metadata": {
      "needs_background": "light"
     },
     "output_type": "display_data"
    },
    {
     "data": {
      "image/png": "[encoded data removed]",
      "text/plain": [
       "<Figure size 432x288 with 1 Axes>"
      ]
     },
     "metadata": {
      "needs_background": "light"
     },
     "output_type": "display_data"
    },
    {
     "data": {
      "image/png": "[encoded data removed]",
      "text/plain": [
       "<Figure size 432x288 with 1 Axes>"
      ]
     },
     "metadata": {
      "needs_background": "light"
     },
     "output_type": "display_data"
    }
   ],
   "source": [
    "for feature in features_with_na:\n",
    "    data=df.copy()\n",
    "\n",
    "    data[feature]=np.where(data[feature].isnull(),1,0)\n",
    "    \n",
    "    data.groupby(feature)['Delivery Time'].median().plot.bar()\n",
    "    plt.title(feature)\n",
    "    plt.show()"
   ]
  },
  {
   "cell_type": "code",
   "execution_count": 132,
   "metadata": {},
   "outputs": [
    {
     "data": {
      "text/plain": [
       "market_id                     987\n",
       "store_id                        0\n",
       "store_primary_category       4760\n",
       "order_protocol                995\n",
       "total_items                     0\n",
       "subtotal                        0\n",
       "num_distinct_items              0\n",
       "min_item_price                  0\n",
       "max_item_price                  0\n",
       "total_onshift_partners      16262\n",
       "total_busy_partners         16262\n",
       "total_outstanding_orders    16262\n",
       "Delivery Time                   7\n",
       "dtype: int64"
      ]
     },
     "execution_count": 132,
     "metadata": {},
     "output_type": "execute_result"
    }
   ],
   "source": [
    "df.isnull().sum()"
   ]
  },
  {
   "cell_type": "code",
   "execution_count": 133,
   "metadata": {},
   "outputs": [
    {
     "data": {
      "image/png": "[encoded data removed]",
      "text/plain": [
       "<Figure size 432x288 with 1 Axes>"
      ]
     },
     "metadata": {
      "needs_background": "light"
     },
     "output_type": "display_data"
    },
    {
     "data": {
      "image/png": "[encoded data removed]",
      "text/plain": [
       "<Figure size 432x288 with 1 Axes>"
      ]
     },
     "metadata": {
      "needs_background": "light"
     },
     "output_type": "display_data"
    },
    {
     "data": {
      "image/png": "[encoded data removed]",
      "text/plain": [
       "<Figure size 432x288 with 1 Axes>"
      ]
     },
     "metadata": {
      "needs_background": "light"
     },
     "output_type": "display_data"
    },
    {
     "data": {
      "image/png": "[encoded data removed]",
      "text/plain": [
       "<Figure size 432x288 with 1 Axes>"
      ]
     },
     "metadata": {
      "needs_background": "light"
     },
     "output_type": "display_data"
    },
    {
     "data": {
      "image/png": "[encoded data removed]",
      "text/plain": [
       "<Figure size 432x288 with 1 Axes>"
      ]
     },
     "metadata": {
      "needs_background": "light"
     },
     "output_type": "display_data"
    },
    {
     "data": {
      "image/png": "[encoded data removed]",
      "text/plain": [
       "<Figure size 432x288 with 1 Axes>"
      ]
     },
     "metadata": {
      "needs_background": "light"
     },
     "output_type": "display_data"
    },
    {
     "data": {
      "image/png": "[encoded data removed]",
      "text/plain": [
       "<Figure size 432x288 with 1 Axes>"
      ]
     },
     "metadata": {
      "needs_background": "light"
     },
     "output_type": "display_data"
    }
   ],
   "source": [
    "for feature in features_with_na:\n",
    "    data=df.copy()\n",
    "\n",
    "    data[feature]=np.where(data[feature].isnull(),1,0)\n",
    "    \n",
    "    data.groupby(feature)['Delivery Time'].median().plot.bar()\n",
    "    plt.title(feature)\n",
    "    plt.show()"
   ]
  },
  {
   "cell_type": "markdown",
   "metadata": {},
   "source": [
    "#### Market id null valus \n",
    "    As total number is  very less compare drop that rows"
   ]
  },
  {
   "cell_type": "code",
   "execution_count": 134,
   "metadata": {},
   "outputs": [],
   "source": [
    "df.dropna(subset=['market_id','order_protocol'],inplace=True)"
   ]
  },
  {
   "cell_type": "code",
   "execution_count": 135,
   "metadata": {},
   "outputs": [
    {
     "data": {
      "text/plain": [
       "market_id                       0\n",
       "store_id                        0\n",
       "store_primary_category       4005\n",
       "order_protocol                  0\n",
       "total_items                     0\n",
       "subtotal                        0\n",
       "num_distinct_items              0\n",
       "min_item_price                  0\n",
       "max_item_price                  0\n",
       "total_onshift_partners      16150\n",
       "total_busy_partners         16150\n",
       "total_outstanding_orders    16150\n",
       "Delivery Time                   7\n",
       "dtype: int64"
      ]
     },
     "execution_count": 135,
     "metadata": {},
     "output_type": "execute_result"
    }
   ],
   "source": [
    "df.isnull().sum()"
   ]
  },
  {
   "cell_type": "code",
   "execution_count": 136,
   "metadata": {},
   "outputs": [
    {
     "data": {
      "text/plain": [
       "75"
      ]
     },
     "execution_count": 136,
     "metadata": {},
     "output_type": "execute_result"
    }
   ],
   "source": [
    "len(df['store_primary_category'].unique())"
   ]
  },
  {
   "cell_type": "code",
   "execution_count": 137,
   "metadata": {},
   "outputs": [
    {
     "data": {
      "text/plain": [
       "6740"
      ]
     },
     "execution_count": 137,
     "metadata": {},
     "output_type": "execute_result"
    }
   ],
   "source": [
    "len(df['store_id'].unique())"
   ]
  },
  {
   "cell_type": "code",
   "execution_count": 138,
   "metadata": {},
   "outputs": [
    {
     "data": {
      "text/plain": [
       "7"
      ]
     },
     "execution_count": 138,
     "metadata": {},
     "output_type": "execute_result"
    }
   ],
   "source": [
    "len(df['order_protocol'].unique())"
   ]
  },
  {
   "cell_type": "code",
   "execution_count": 139,
   "metadata": {},
   "outputs": [
    {
     "data": {
      "text/plain": [
       "0.08242613546467414"
      ]
     },
     "execution_count": 139,
     "metadata": {},
     "output_type": "execute_result"
    }
   ],
   "source": [
    "16150 / df.shape[0]"
   ]
  },
  {
   "cell_type": "code",
   "execution_count": 140,
   "metadata": {},
   "outputs": [
    {
     "data": {
      "text/html": [
       "<div>\n",
       "<style scoped>\n",
       "    .dataframe tbody tr th:only-of-type {\n",
       "        vertical-align: middle;\n",
       "    }\n",
       "\n",
       "    .dataframe tbody tr th {\n",
       "        vertical-align: top;\n",
       "    }\n",
       "\n",
       "    .dataframe thead th {\n",
       "        text-align: right;\n",
       "    }\n",
       "</style>\n",
       "<table border=\"1\" class=\"dataframe\">\n",
       "  <thead>\n",
       "    <tr style=\"text-align: right;\">\n",
       "      <th></th>\n",
       "      <th>market_id</th>\n",
       "      <th>store_id</th>\n",
       "      <th>store_primary_category</th>\n",
       "      <th>order_protocol</th>\n",
       "      <th>total_items</th>\n",
       "      <th>subtotal</th>\n",
       "      <th>num_distinct_items</th>\n",
       "      <th>min_item_price</th>\n",
       "      <th>max_item_price</th>\n",
       "      <th>total_onshift_partners</th>\n",
       "      <th>total_busy_partners</th>\n",
       "      <th>total_outstanding_orders</th>\n",
       "      <th>Delivery Time</th>\n",
       "    </tr>\n",
       "  </thead>\n",
       "  <tbody>\n",
       "    <tr>\n",
       "      <th>0</th>\n",
       "      <td>1.0</td>\n",
       "      <td>df263d996281d984952c07998dc54358</td>\n",
       "      <td>american</td>\n",
       "      <td>1.0</td>\n",
       "      <td>4</td>\n",
       "      <td>3441</td>\n",
       "      <td>4</td>\n",
       "      <td>557</td>\n",
       "      <td>1239</td>\n",
       "      <td>33.0</td>\n",
       "      <td>14.0</td>\n",
       "      <td>21.0</td>\n",
       "      <td>62.983333</td>\n",
       "    </tr>\n",
       "    <tr>\n",
       "      <th>1</th>\n",
       "      <td>2.0</td>\n",
       "      <td>f0ade77b43923b38237db569b016ba25</td>\n",
       "      <td>mexican</td>\n",
       "      <td>2.0</td>\n",
       "      <td>1</td>\n",
       "      <td>1900</td>\n",
       "      <td>1</td>\n",
       "      <td>1400</td>\n",
       "      <td>1400</td>\n",
       "      <td>1.0</td>\n",
       "      <td>2.0</td>\n",
       "      <td>2.0</td>\n",
       "      <td>67.066667</td>\n",
       "    </tr>\n",
       "    <tr>\n",
       "      <th>2</th>\n",
       "      <td>3.0</td>\n",
       "      <td>f0ade77b43923b38237db569b016ba25</td>\n",
       "      <td>NaN</td>\n",
       "      <td>1.0</td>\n",
       "      <td>1</td>\n",
       "      <td>1900</td>\n",
       "      <td>1</td>\n",
       "      <td>1900</td>\n",
       "      <td>1900</td>\n",
       "      <td>1.0</td>\n",
       "      <td>0.0</td>\n",
       "      <td>0.0</td>\n",
       "      <td>29.683333</td>\n",
       "    </tr>\n",
       "    <tr>\n",
       "      <th>3</th>\n",
       "      <td>3.0</td>\n",
       "      <td>f0ade77b43923b38237db569b016ba25</td>\n",
       "      <td>NaN</td>\n",
       "      <td>1.0</td>\n",
       "      <td>6</td>\n",
       "      <td>6900</td>\n",
       "      <td>5</td>\n",
       "      <td>600</td>\n",
       "      <td>1800</td>\n",
       "      <td>1.0</td>\n",
       "      <td>1.0</td>\n",
       "      <td>2.0</td>\n",
       "      <td>51.250000</td>\n",
       "    </tr>\n",
       "    <tr>\n",
       "      <th>4</th>\n",
       "      <td>3.0</td>\n",
       "      <td>f0ade77b43923b38237db569b016ba25</td>\n",
       "      <td>NaN</td>\n",
       "      <td>1.0</td>\n",
       "      <td>3</td>\n",
       "      <td>3900</td>\n",
       "      <td>3</td>\n",
       "      <td>1100</td>\n",
       "      <td>1600</td>\n",
       "      <td>6.0</td>\n",
       "      <td>6.0</td>\n",
       "      <td>9.0</td>\n",
       "      <td>39.833333</td>\n",
       "    </tr>\n",
       "    <tr>\n",
       "      <th>...</th>\n",
       "      <td>...</td>\n",
       "      <td>...</td>\n",
       "      <td>...</td>\n",
       "      <td>...</td>\n",
       "      <td>...</td>\n",
       "      <td>...</td>\n",
       "      <td>...</td>\n",
       "      <td>...</td>\n",
       "      <td>...</td>\n",
       "      <td>...</td>\n",
       "      <td>...</td>\n",
       "      <td>...</td>\n",
       "      <td>...</td>\n",
       "    </tr>\n",
       "    <tr>\n",
       "      <th>197423</th>\n",
       "      <td>1.0</td>\n",
       "      <td>a914ecef9c12ffdb9bede64bb703d877</td>\n",
       "      <td>fast</td>\n",
       "      <td>4.0</td>\n",
       "      <td>3</td>\n",
       "      <td>1389</td>\n",
       "      <td>3</td>\n",
       "      <td>345</td>\n",
       "      <td>649</td>\n",
       "      <td>17.0</td>\n",
       "      <td>17.0</td>\n",
       "      <td>23.0</td>\n",
       "      <td>65.116667</td>\n",
       "    </tr>\n",
       "    <tr>\n",
       "      <th>197424</th>\n",
       "      <td>1.0</td>\n",
       "      <td>a914ecef9c12ffdb9bede64bb703d877</td>\n",
       "      <td>fast</td>\n",
       "      <td>4.0</td>\n",
       "      <td>6</td>\n",
       "      <td>3010</td>\n",
       "      <td>4</td>\n",
       "      <td>405</td>\n",
       "      <td>825</td>\n",
       "      <td>12.0</td>\n",
       "      <td>11.0</td>\n",
       "      <td>14.0</td>\n",
       "      <td>56.383333</td>\n",
       "    </tr>\n",
       "    <tr>\n",
       "      <th>197425</th>\n",
       "      <td>1.0</td>\n",
       "      <td>a914ecef9c12ffdb9bede64bb703d877</td>\n",
       "      <td>fast</td>\n",
       "      <td>4.0</td>\n",
       "      <td>5</td>\n",
       "      <td>1836</td>\n",
       "      <td>3</td>\n",
       "      <td>300</td>\n",
       "      <td>399</td>\n",
       "      <td>39.0</td>\n",
       "      <td>41.0</td>\n",
       "      <td>40.0</td>\n",
       "      <td>50.133333</td>\n",
       "    </tr>\n",
       "    <tr>\n",
       "      <th>197426</th>\n",
       "      <td>1.0</td>\n",
       "      <td>c81e155d85dae5430a8cee6f2242e82c</td>\n",
       "      <td>sandwich</td>\n",
       "      <td>1.0</td>\n",
       "      <td>1</td>\n",
       "      <td>1175</td>\n",
       "      <td>1</td>\n",
       "      <td>535</td>\n",
       "      <td>535</td>\n",
       "      <td>7.0</td>\n",
       "      <td>7.0</td>\n",
       "      <td>12.0</td>\n",
       "      <td>65.116667</td>\n",
       "    </tr>\n",
       "    <tr>\n",
       "      <th>197427</th>\n",
       "      <td>1.0</td>\n",
       "      <td>c81e155d85dae5430a8cee6f2242e82c</td>\n",
       "      <td>sandwich</td>\n",
       "      <td>1.0</td>\n",
       "      <td>4</td>\n",
       "      <td>2605</td>\n",
       "      <td>4</td>\n",
       "      <td>425</td>\n",
       "      <td>750</td>\n",
       "      <td>20.0</td>\n",
       "      <td>20.0</td>\n",
       "      <td>23.0</td>\n",
       "      <td>37.133333</td>\n",
       "    </tr>\n",
       "  </tbody>\n",
       "</table>\n",
       "<p>195933 rows × 13 columns</p>\n",
       "</div>"
      ],
      "text/plain": [
       "        market_id                          store_id store_primary_category  \\\n",
       "0             1.0  df263d996281d984952c07998dc54358               american   \n",
       "1             2.0  f0ade77b43923b38237db569b016ba25                mexican   \n",
       "2             3.0  f0ade77b43923b38237db569b016ba25                    NaN   \n",
       "3             3.0  f0ade77b43923b38237db569b016ba25                    NaN   \n",
       "4             3.0  f0ade77b43923b38237db569b016ba25                    NaN   \n",
       "...           ...                               ...                    ...   \n",
       "197423        1.0  a914ecef9c12ffdb9bede64bb703d877                   fast   \n",
       "197424        1.0  a914ecef9c12ffdb9bede64bb703d877                   fast   \n",
       "197425        1.0  a914ecef9c12ffdb9bede64bb703d877                   fast   \n",
       "197426        1.0  c81e155d85dae5430a8cee6f2242e82c               sandwich   \n",
       "197427        1.0  c81e155d85dae5430a8cee6f2242e82c               sandwich   \n",
       "\n",
       "        order_protocol  total_items  subtotal  num_distinct_items  \\\n",
       "0                  1.0            4      3441                   4   \n",
       "1                  2.0            1      1900                   1   \n",
       "2                  1.0            1      1900                   1   \n",
       "3                  1.0            6      6900                   5   \n",
       "4                  1.0            3      3900                   3   \n",
       "...                ...          ...       ...                 ...   \n",
       "197423             4.0            3      1389                   3   \n",
       "197424             4.0            6      3010                   4   \n",
       "197425             4.0            5      1836                   3   \n",
       "197426             1.0            1      1175                   1   \n",
       "197427             1.0            4      2605                   4   \n",
       "\n",
       "        min_item_price  max_item_price  total_onshift_partners  \\\n",
       "0                  557            1239                    33.0   \n",
       "1                 1400            1400                     1.0   \n",
       "2                 1900            1900                     1.0   \n",
       "3                  600            1800                     1.0   \n",
       "4                 1100            1600                     6.0   \n",
       "...                ...             ...                     ...   \n",
       "197423             345             649                    17.0   \n",
       "197424             405             825                    12.0   \n",
       "197425             300             399                    39.0   \n",
       "197426             535             535                     7.0   \n",
       "197427             425             750                    20.0   \n",
       "\n",
       "        total_busy_partners  total_outstanding_orders  Delivery Time  \n",
       "0                      14.0                      21.0      62.983333  \n",
       "1                       2.0                       2.0      67.066667  \n",
       "2                       0.0                       0.0      29.683333  \n",
       "3                       1.0                       2.0      51.250000  \n",
       "4                       6.0                       9.0      39.833333  \n",
       "...                     ...                       ...            ...  \n",
       "197423                 17.0                      23.0      65.116667  \n",
       "197424                 11.0                      14.0      56.383333  \n",
       "197425                 41.0                      40.0      50.133333  \n",
       "197426                  7.0                      12.0      65.116667  \n",
       "197427                 20.0                      23.0      37.133333  \n",
       "\n",
       "[195933 rows x 13 columns]"
      ]
     },
     "execution_count": 140,
     "metadata": {},
     "output_type": "execute_result"
    }
   ],
   "source": [
    "df"
   ]
  },
  {
   "cell_type": "code",
   "execution_count": 141,
   "metadata": {},
   "outputs": [
    {
     "data": {
      "text/plain": [
       "(195933, 13)"
      ]
     },
     "execution_count": 141,
     "metadata": {},
     "output_type": "execute_result"
    }
   ],
   "source": [
    "df.shape"
   ]
  },
  {
   "cell_type": "code",
   "execution_count": 142,
   "metadata": {},
   "outputs": [],
   "source": [
    "df.dropna(subset=['store_primary_category'],inplace=True)"
   ]
  },
  {
   "cell_type": "code",
   "execution_count": 143,
   "metadata": {},
   "outputs": [
    {
     "data": {
      "text/plain": [
       "market_id                       0\n",
       "store_id                        0\n",
       "store_primary_category          0\n",
       "order_protocol                  0\n",
       "total_items                     0\n",
       "subtotal                        0\n",
       "num_distinct_items              0\n",
       "min_item_price                  0\n",
       "max_item_price                  0\n",
       "total_onshift_partners      15673\n",
       "total_busy_partners         15673\n",
       "total_outstanding_orders    15673\n",
       "Delivery Time                   7\n",
       "dtype: int64"
      ]
     },
     "execution_count": 143,
     "metadata": {},
     "output_type": "execute_result"
    }
   ],
   "source": [
    "df.isnull().sum()"
   ]
  },
  {
   "cell_type": "code",
   "execution_count": 144,
   "metadata": {},
   "outputs": [
    {
     "data": {
      "text/html": [
       "<div>\n",
       "<style scoped>\n",
       "    .dataframe tbody tr th:only-of-type {\n",
       "        vertical-align: middle;\n",
       "    }\n",
       "\n",
       "    .dataframe tbody tr th {\n",
       "        vertical-align: top;\n",
       "    }\n",
       "\n",
       "    .dataframe thead th {\n",
       "        text-align: right;\n",
       "    }\n",
       "</style>\n",
       "<table border=\"1\" class=\"dataframe\">\n",
       "  <thead>\n",
       "    <tr style=\"text-align: right;\">\n",
       "      <th></th>\n",
       "      <th>market_id</th>\n",
       "      <th>store_id</th>\n",
       "      <th>store_primary_category</th>\n",
       "      <th>order_protocol</th>\n",
       "      <th>total_items</th>\n",
       "      <th>subtotal</th>\n",
       "      <th>num_distinct_items</th>\n",
       "      <th>min_item_price</th>\n",
       "      <th>max_item_price</th>\n",
       "      <th>total_onshift_partners</th>\n",
       "      <th>total_busy_partners</th>\n",
       "      <th>total_outstanding_orders</th>\n",
       "      <th>Delivery Time</th>\n",
       "    </tr>\n",
       "  </thead>\n",
       "  <tbody>\n",
       "    <tr>\n",
       "      <th>160</th>\n",
       "      <td>6.0</td>\n",
       "      <td>45d38ce7f5231602e24a2103a0300ae6</td>\n",
       "      <td>breakfast</td>\n",
       "      <td>2.0</td>\n",
       "      <td>2</td>\n",
       "      <td>575</td>\n",
       "      <td>2</td>\n",
       "      <td>225</td>\n",
       "      <td>350</td>\n",
       "      <td>NaN</td>\n",
       "      <td>NaN</td>\n",
       "      <td>NaN</td>\n",
       "      <td>30.916667</td>\n",
       "    </tr>\n",
       "    <tr>\n",
       "      <th>161</th>\n",
       "      <td>6.0</td>\n",
       "      <td>45d38ce7f5231602e24a2103a0300ae6</td>\n",
       "      <td>breakfast</td>\n",
       "      <td>2.0</td>\n",
       "      <td>5</td>\n",
       "      <td>1415</td>\n",
       "      <td>3</td>\n",
       "      <td>185</td>\n",
       "      <td>675</td>\n",
       "      <td>NaN</td>\n",
       "      <td>NaN</td>\n",
       "      <td>NaN</td>\n",
       "      <td>69.833333</td>\n",
       "    </tr>\n",
       "    <tr>\n",
       "      <th>162</th>\n",
       "      <td>6.0</td>\n",
       "      <td>45d38ce7f5231602e24a2103a0300ae6</td>\n",
       "      <td>breakfast</td>\n",
       "      <td>2.0</td>\n",
       "      <td>1</td>\n",
       "      <td>650</td>\n",
       "      <td>1</td>\n",
       "      <td>650</td>\n",
       "      <td>650</td>\n",
       "      <td>NaN</td>\n",
       "      <td>NaN</td>\n",
       "      <td>NaN</td>\n",
       "      <td>57.033333</td>\n",
       "    </tr>\n",
       "    <tr>\n",
       "      <th>163</th>\n",
       "      <td>6.0</td>\n",
       "      <td>45d38ce7f5231602e24a2103a0300ae6</td>\n",
       "      <td>breakfast</td>\n",
       "      <td>2.0</td>\n",
       "      <td>5</td>\n",
       "      <td>1550</td>\n",
       "      <td>5</td>\n",
       "      <td>225</td>\n",
       "      <td>700</td>\n",
       "      <td>NaN</td>\n",
       "      <td>NaN</td>\n",
       "      <td>NaN</td>\n",
       "      <td>123.200000</td>\n",
       "    </tr>\n",
       "    <tr>\n",
       "      <th>164</th>\n",
       "      <td>6.0</td>\n",
       "      <td>45d38ce7f5231602e24a2103a0300ae6</td>\n",
       "      <td>breakfast</td>\n",
       "      <td>2.0</td>\n",
       "      <td>6</td>\n",
       "      <td>1110</td>\n",
       "      <td>5</td>\n",
       "      <td>185</td>\n",
       "      <td>185</td>\n",
       "      <td>NaN</td>\n",
       "      <td>NaN</td>\n",
       "      <td>NaN</td>\n",
       "      <td>56.133333</td>\n",
       "    </tr>\n",
       "    <tr>\n",
       "      <th>...</th>\n",
       "      <td>...</td>\n",
       "      <td>...</td>\n",
       "      <td>...</td>\n",
       "      <td>...</td>\n",
       "      <td>...</td>\n",
       "      <td>...</td>\n",
       "      <td>...</td>\n",
       "      <td>...</td>\n",
       "      <td>...</td>\n",
       "      <td>...</td>\n",
       "      <td>...</td>\n",
       "      <td>...</td>\n",
       "      <td>...</td>\n",
       "    </tr>\n",
       "    <tr>\n",
       "      <th>197196</th>\n",
       "      <td>3.0</td>\n",
       "      <td>084afd913ab1e6ea58b8ca73f6cb41a6</td>\n",
       "      <td>indian</td>\n",
       "      <td>2.0</td>\n",
       "      <td>3</td>\n",
       "      <td>1792</td>\n",
       "      <td>3</td>\n",
       "      <td>163</td>\n",
       "      <td>1177</td>\n",
       "      <td>NaN</td>\n",
       "      <td>NaN</td>\n",
       "      <td>NaN</td>\n",
       "      <td>37.733333</td>\n",
       "    </tr>\n",
       "    <tr>\n",
       "      <th>197197</th>\n",
       "      <td>3.0</td>\n",
       "      <td>084afd913ab1e6ea58b8ca73f6cb41a6</td>\n",
       "      <td>indian</td>\n",
       "      <td>2.0</td>\n",
       "      <td>8</td>\n",
       "      <td>2923</td>\n",
       "      <td>5</td>\n",
       "      <td>50</td>\n",
       "      <td>1199</td>\n",
       "      <td>NaN</td>\n",
       "      <td>NaN</td>\n",
       "      <td>NaN</td>\n",
       "      <td>52.633333</td>\n",
       "    </tr>\n",
       "    <tr>\n",
       "      <th>197198</th>\n",
       "      <td>3.0</td>\n",
       "      <td>084afd913ab1e6ea58b8ca73f6cb41a6</td>\n",
       "      <td>indian</td>\n",
       "      <td>2.0</td>\n",
       "      <td>3</td>\n",
       "      <td>3297</td>\n",
       "      <td>3</td>\n",
       "      <td>799</td>\n",
       "      <td>1299</td>\n",
       "      <td>NaN</td>\n",
       "      <td>NaN</td>\n",
       "      <td>NaN</td>\n",
       "      <td>45.350000</td>\n",
       "    </tr>\n",
       "    <tr>\n",
       "      <th>197199</th>\n",
       "      <td>3.0</td>\n",
       "      <td>084afd913ab1e6ea58b8ca73f6cb41a6</td>\n",
       "      <td>indian</td>\n",
       "      <td>2.0</td>\n",
       "      <td>4</td>\n",
       "      <td>2776</td>\n",
       "      <td>4</td>\n",
       "      <td>179</td>\n",
       "      <td>1099</td>\n",
       "      <td>NaN</td>\n",
       "      <td>NaN</td>\n",
       "      <td>NaN</td>\n",
       "      <td>48.633333</td>\n",
       "    </tr>\n",
       "    <tr>\n",
       "      <th>197421</th>\n",
       "      <td>1.0</td>\n",
       "      <td>a914ecef9c12ffdb9bede64bb703d877</td>\n",
       "      <td>fast</td>\n",
       "      <td>4.0</td>\n",
       "      <td>2</td>\n",
       "      <td>979</td>\n",
       "      <td>2</td>\n",
       "      <td>145</td>\n",
       "      <td>339</td>\n",
       "      <td>NaN</td>\n",
       "      <td>NaN</td>\n",
       "      <td>NaN</td>\n",
       "      <td>67.300000</td>\n",
       "    </tr>\n",
       "  </tbody>\n",
       "</table>\n",
       "<p>15673 rows × 13 columns</p>\n",
       "</div>"
      ],
      "text/plain": [
       "        market_id                          store_id store_primary_category  \\\n",
       "160           6.0  45d38ce7f5231602e24a2103a0300ae6              breakfast   \n",
       "161           6.0  45d38ce7f5231602e24a2103a0300ae6              breakfast   \n",
       "162           6.0  45d38ce7f5231602e24a2103a0300ae6              breakfast   \n",
       "163           6.0  45d38ce7f5231602e24a2103a0300ae6              breakfast   \n",
       "164           6.0  45d38ce7f5231602e24a2103a0300ae6              breakfast   \n",
       "...           ...                               ...                    ...   \n",
       "197196        3.0  084afd913ab1e6ea58b8ca73f6cb41a6                 indian   \n",
       "197197        3.0  084afd913ab1e6ea58b8ca73f6cb41a6                 indian   \n",
       "197198        3.0  084afd913ab1e6ea58b8ca73f6cb41a6                 indian   \n",
       "197199        3.0  084afd913ab1e6ea58b8ca73f6cb41a6                 indian   \n",
       "197421        1.0  a914ecef9c12ffdb9bede64bb703d877                   fast   \n",
       "\n",
       "        order_protocol  total_items  subtotal  num_distinct_items  \\\n",
       "160                2.0            2       575                   2   \n",
       "161                2.0            5      1415                   3   \n",
       "162                2.0            1       650                   1   \n",
       "163                2.0            5      1550                   5   \n",
       "164                2.0            6      1110                   5   \n",
       "...                ...          ...       ...                 ...   \n",
       "197196             2.0            3      1792                   3   \n",
       "197197             2.0            8      2923                   5   \n",
       "197198             2.0            3      3297                   3   \n",
       "197199             2.0            4      2776                   4   \n",
       "197421             4.0            2       979                   2   \n",
       "\n",
       "        min_item_price  max_item_price  total_onshift_partners  \\\n",
       "160                225             350                     NaN   \n",
       "161                185             675                     NaN   \n",
       "162                650             650                     NaN   \n",
       "163                225             700                     NaN   \n",
       "164                185             185                     NaN   \n",
       "...                ...             ...                     ...   \n",
       "197196             163            1177                     NaN   \n",
       "197197              50            1199                     NaN   \n",
       "197198             799            1299                     NaN   \n",
       "197199             179            1099                     NaN   \n",
       "197421             145             339                     NaN   \n",
       "\n",
       "        total_busy_partners  total_outstanding_orders  Delivery Time  \n",
       "160                     NaN                       NaN      30.916667  \n",
       "161                     NaN                       NaN      69.833333  \n",
       "162                     NaN                       NaN      57.033333  \n",
       "163                     NaN                       NaN     123.200000  \n",
       "164                     NaN                       NaN      56.133333  \n",
       "...                     ...                       ...            ...  \n",
       "197196                  NaN                       NaN      37.733333  \n",
       "197197                  NaN                       NaN      52.633333  \n",
       "197198                  NaN                       NaN      45.350000  \n",
       "197199                  NaN                       NaN      48.633333  \n",
       "197421                  NaN                       NaN      67.300000  \n",
       "\n",
       "[15673 rows x 13 columns]"
      ]
     },
     "execution_count": 144,
     "metadata": {},
     "output_type": "execute_result"
    }
   ],
   "source": [
    "### Now replacing null values in columns with mean\n",
    "df[df['total_busy_partners'].isna()]"
   ]
  },
  {
   "cell_type": "code",
   "execution_count": 145,
   "metadata": {},
   "outputs": [],
   "source": [
    "df['total_busy_partners']=df['total_busy_partners'].fillna(df['total_busy_partners'].mean())"
   ]
  },
  {
   "cell_type": "code",
   "execution_count": 146,
   "metadata": {},
   "outputs": [
    {
     "data": {
      "text/plain": [
       "market_id                       0\n",
       "store_id                        0\n",
       "store_primary_category          0\n",
       "order_protocol                  0\n",
       "total_items                     0\n",
       "subtotal                        0\n",
       "num_distinct_items              0\n",
       "min_item_price                  0\n",
       "max_item_price                  0\n",
       "total_onshift_partners      15673\n",
       "total_busy_partners             0\n",
       "total_outstanding_orders    15673\n",
       "Delivery Time                   7\n",
       "dtype: int64"
      ]
     },
     "execution_count": 146,
     "metadata": {},
     "output_type": "execute_result"
    }
   ],
   "source": [
    "df.isnull().sum()"
   ]
  },
  {
   "cell_type": "code",
   "execution_count": 147,
   "metadata": {},
   "outputs": [
    {
     "data": {
      "text/plain": [
       "159"
      ]
     },
     "execution_count": 147,
     "metadata": {},
     "output_type": "execute_result"
    }
   ],
   "source": [
    "len(df['total_busy_partners'].unique())"
   ]
  },
  {
   "cell_type": "code",
   "execution_count": 148,
   "metadata": {},
   "outputs": [],
   "source": [
    "df['total_onshift_partners']=df['total_onshift_partners'].fillna(df['total_onshift_partners'].mean())"
   ]
  },
  {
   "cell_type": "code",
   "execution_count": 149,
   "metadata": {},
   "outputs": [
    {
     "data": {
      "text/plain": [
       "market_id                   0\n",
       "store_id                    0\n",
       "store_primary_category      0\n",
       "order_protocol              0\n",
       "total_items                 0\n",
       "subtotal                    0\n",
       "num_distinct_items          0\n",
       "min_item_price              0\n",
       "max_item_price              0\n",
       "total_onshift_partners      0\n",
       "total_busy_partners         0\n",
       "total_outstanding_orders    0\n",
       "Delivery Time               7\n",
       "dtype: int64"
      ]
     },
     "execution_count": 149,
     "metadata": {},
     "output_type": "execute_result"
    }
   ],
   "source": [
    "df['total_outstanding_orders']=df['total_outstanding_orders'].fillna(df['total_outstanding_orders'].mean())\n",
    "df.isnull().sum()"
   ]
  },
  {
   "cell_type": "code",
   "execution_count": 150,
   "metadata": {},
   "outputs": [],
   "source": [
    "df.dropna(subset=['Delivery Time'],inplace=True)"
   ]
  },
  {
   "cell_type": "code",
   "execution_count": 151,
   "metadata": {},
   "outputs": [
    {
     "data": {
      "text/plain": [
       "market_id                   0\n",
       "store_id                    0\n",
       "store_primary_category      0\n",
       "order_protocol              0\n",
       "total_items                 0\n",
       "subtotal                    0\n",
       "num_distinct_items          0\n",
       "min_item_price              0\n",
       "max_item_price              0\n",
       "total_onshift_partners      0\n",
       "total_busy_partners         0\n",
       "total_outstanding_orders    0\n",
       "Delivery Time               0\n",
       "dtype: int64"
      ]
     },
     "execution_count": 151,
     "metadata": {},
     "output_type": "execute_result"
    }
   ],
   "source": [
    "df.isnull().sum()"
   ]
  },
  {
   "cell_type": "markdown",
   "metadata": {},
   "source": [
    "#### Managing Outliers in dataset"
   ]
  },
  {
   "cell_type": "code",
   "execution_count": 152,
   "metadata": {},
   "outputs": [
    {
     "data": {
      "text/plain": [
       "['total_items',\n",
       " 'subtotal',\n",
       " 'min_item_price',\n",
       " 'max_item_price',\n",
       " 'total_onshift_partners',\n",
       " 'total_busy_partners',\n",
       " 'total_outstanding_orders',\n",
       " 'Delivery Time']"
      ]
     },
     "execution_count": 152,
     "metadata": {},
     "output_type": "execute_result"
    }
   ],
   "source": [
    "continuous_features"
   ]
  },
  {
   "cell_type": "markdown",
   "metadata": {},
   "source": [
    "##### Categorical Features"
   ]
  },
  {
   "cell_type": "code",
   "execution_count": 153,
   "metadata": {},
   "outputs": [
    {
     "name": "stdout",
     "output_type": "stream",
     "text": [
      "<class 'pandas.core.frame.DataFrame'>\n",
      "Int64Index: 191921 entries, 0 to 197427\n",
      "Data columns (total 13 columns):\n",
      " #   Column                    Non-Null Count   Dtype  \n",
      "---  ------                    --------------   -----  \n",
      " 0   market_id                 191921 non-null  float64\n",
      " 1   store_id                  191921 non-null  object \n",
      " 2   store_primary_category    191921 non-null  object \n",
      " 3   order_protocol            191921 non-null  float64\n",
      " 4   total_items               191921 non-null  int64  \n",
      " 5   subtotal                  191921 non-null  int64  \n",
      " 6   num_distinct_items        191921 non-null  int64  \n",
      " 7   min_item_price            191921 non-null  int64  \n",
      " 8   max_item_price            191921 non-null  int64  \n",
      " 9   total_onshift_partners    191921 non-null  float64\n",
      " 10  total_busy_partners       191921 non-null  float64\n",
      " 11  total_outstanding_orders  191921 non-null  float64\n",
      " 12  Delivery Time             191921 non-null  float64\n",
      "dtypes: float64(6), int64(5), object(2)\n",
      "memory usage: 20.5+ MB\n"
     ]
    }
   ],
   "source": [
    "df.info()"
   ]
  },
  {
   "cell_type": "code",
   "execution_count": 154,
   "metadata": {},
   "outputs": [
    {
     "data": {
      "text/plain": [
       "['store_id', 'store_primary_category']"
      ]
     },
     "execution_count": 154,
     "metadata": {},
     "output_type": "execute_result"
    }
   ],
   "source": [
    "Categorical_features = [feature for feature in df.columns if df[feature].dtypes=='O']\n",
    "Categorical_features"
   ]
  },
  {
   "cell_type": "code",
   "execution_count": 155,
   "metadata": {},
   "outputs": [
    {
     "data": {
      "text/plain": [
       "6567"
      ]
     },
     "execution_count": 155,
     "metadata": {},
     "output_type": "execute_result"
    }
   ],
   "source": [
    "len(df['store_id'].unique())"
   ]
  },
  {
   "cell_type": "code",
   "execution_count": 156,
   "metadata": {},
   "outputs": [],
   "source": [
    "### Drop Column store_id\n",
    "\n",
    "df.drop('store_id',axis=1,inplace=True)"
   ]
  },
  {
   "cell_type": "code",
   "execution_count": 157,
   "metadata": {},
   "outputs": [
    {
     "data": {
      "text/plain": [
       "74"
      ]
     },
     "execution_count": 157,
     "metadata": {},
     "output_type": "execute_result"
    }
   ],
   "source": [
    "len(df['store_primary_category'].unique())"
   ]
  },
  {
   "cell_type": "code",
   "execution_count": 158,
   "metadata": {},
   "outputs": [],
   "source": [
    "df.drop('store_primary_category',axis=1,inplace=True)"
   ]
  },
  {
   "cell_type": "markdown",
   "metadata": {},
   "source": [
    "### Handling Numerical Variable"
   ]
  },
  {
   "cell_type": "code",
   "execution_count": 159,
   "metadata": {},
   "outputs": [
    {
     "data": {
      "image/png": "[encoded data removed]",
      "text/plain": [
       "<Figure size 432x288 with 1 Axes>"
      ]
     },
     "metadata": {
      "needs_background": "light"
     },
     "output_type": "display_data"
    },
    {
     "data": {
      "image/png": "[encoded data removed]",
      "text/plain": [
       "<Figure size 432x288 with 1 Axes>"
      ]
     },
     "metadata": {
      "needs_background": "light"
     },
     "output_type": "display_data"
    },
    {
     "data": {
      "image/png": "[encoded data removed]",
      "text/plain": [
       "<Figure size 432x288 with 1 Axes>"
      ]
     },
     "metadata": {
      "needs_background": "light"
     },
     "output_type": "display_data"
    },
    {
     "data": {
      "image/png": "[encoded data removed]",
      "text/plain": [
       "<Figure size 432x288 with 1 Axes>"
      ]
     },
     "metadata": {
      "needs_background": "light"
     },
     "output_type": "display_data"
    },
    {
     "data": {
      "image/png": "[encoded data removed]",
      "text/plain": [
       "<Figure size 432x288 with 1 Axes>"
      ]
     },
     "metadata": {
      "needs_background": "light"
     },
     "output_type": "display_data"
    },
    {
     "data": {
      "image/png": "[encoded data removed]",
      "text/plain": [
       "<Figure size 432x288 with 1 Axes>"
      ]
     },
     "metadata": {
      "needs_background": "light"
     },
     "output_type": "display_data"
    },
    {
     "data": {
      "image/png": "[encoded data removed]",
      "text/plain": [
       "<Figure size 432x288 with 1 Axes>"
      ]
     },
     "metadata": {
      "needs_background": "light"
     },
     "output_type": "display_data"
    },
    {
     "data": {
      "image/png": "[encoded data removed]",
      "text/plain": [
       "<Figure size 432x288 with 1 Axes>"
      ]
     },
     "metadata": {
      "needs_background": "light"
     },
     "output_type": "display_data"
    }
   ],
   "source": [
    "continuous_features = ['total_items','subtotal','min_item_price','max_item_price','total_onshift_partners','total_busy_partners','total_outstanding_orders','Delivery Time']\n",
    "\n",
    "for feature in continuous_features:\n",
    "    data1=df.copy()\n",
    "    data1[feature].hist(bins=25)\n",
    "    plt.xlabel(feature)\n",
    "    plt.ylabel('Count')\n",
    "    plt.title(feature)\n",
    "    plt.show()"
   ]
  },
  {
   "cell_type": "code",
   "execution_count": 160,
   "metadata": {},
   "outputs": [
    {
     "data": {
      "text/plain": [
       "array([ 1.96501812,  2.31794313,  1.24350356,  0.89414277, 21.87126084,\n",
       "        0.81274589,  2.20075262])"
      ]
     },
     "execution_count": 160,
     "metadata": {},
     "output_type": "execute_result"
    }
   ],
   "source": [
    "skew(df[{'total_items','subtotal','min_item_price','max_item_price','total_onshift_partners','total_busy_partners','total_outstanding_orders'}])"
   ]
  },
  {
   "cell_type": "code",
   "execution_count": 161,
   "metadata": {},
   "outputs": [
    {
     "name": "stdout",
     "output_type": "stream",
     "text": [
      "total_items 21.871260837093505\n",
      "subtotal 1.9650181226458758\n",
      "min_item_price 2.3179431346114385\n",
      "max_item_price 2.2007526212328803\n",
      "total_onshift_partners 0.8941427746782831\n",
      "total_busy_partners 0.8127458902008776\n",
      "total_outstanding_orders 1.2435035566621122\n",
      "Delivery Time 433.5948291572381\n"
     ]
    }
   ],
   "source": [
    "for col in continuous_features:\n",
    "    skewness= skew(data1[col])\n",
    "    print(col, skewness)"
   ]
  },
  {
   "cell_type": "markdown",
   "metadata": {},
   "source": [
    "As there are columns like total_items, subtotal , min_item_price,max_item_price,total_outstanding_orders are having skewd data so it is going to be normalized after removing outliers from data"
   ]
  },
  {
   "cell_type": "markdown",
   "metadata": {},
   "source": [
    "### Removing outliers"
   ]
  },
  {
   "cell_type": "code",
   "execution_count": 162,
   "metadata": {},
   "outputs": [
    {
     "data": {
      "image/png": "[encoded data removed]",
      "text/plain": [
       "<Figure size 432x288 with 1 Axes>"
      ]
     },
     "metadata": {
      "needs_background": "light"
     },
     "output_type": "display_data"
    },
    {
     "data": {
      "image/png": "[encoded data removed]",
      "text/plain": [
       "<Figure size 432x288 with 1 Axes>"
      ]
     },
     "metadata": {
      "needs_background": "light"
     },
     "output_type": "display_data"
    },
    {
     "data": {
      "image/png": "[encoded data removed]",
      "text/plain": [
       "<Figure size 432x288 with 1 Axes>"
      ]
     },
     "metadata": {
      "needs_background": "light"
     },
     "output_type": "display_data"
    },
    {
     "data": {
      "image/png": "[encoded data removed]",
      "text/plain": [
       "<Figure size 432x288 with 1 Axes>"
      ]
     },
     "metadata": {
      "needs_background": "light"
     },
     "output_type": "display_data"
    },
    {
     "data": {
      "image/png": "[encoded data removed]",
      "text/plain": [
       "<Figure size 432x288 with 1 Axes>"
      ]
     },
     "metadata": {
      "needs_background": "light"
     },
     "output_type": "display_data"
    },
    {
     "data": {
      "image/png": "[encoded data removed]",
      "text/plain": [
       "<Figure size 432x288 with 1 Axes>"
      ]
     },
     "metadata": {
      "needs_background": "light"
     },
     "output_type": "display_data"
    },
    {
     "data": {
      "image/png": "[encoded data removed]",
      "text/plain": [
       "<Figure size 432x288 with 1 Axes>"
      ]
     },
     "metadata": {
      "needs_background": "light"
     },
     "output_type": "display_data"
    },
    {
     "data": {
      "image/png": "[encoded data removed]",
      "text/plain": [
       "<Figure size 432x288 with 1 Axes>"
      ]
     },
     "metadata": {
      "needs_background": "light"
     },
     "output_type": "display_data"
    }
   ],
   "source": [
    "for feature in continuous_features:\n",
    "    plt.boxplot(df[feature])\n",
    "    plt.xlabel(feature)\n",
    "    plt.ylabel('count')\n",
    "    plt.title(feature)\n",
    "    plt.show()"
   ]
  },
  {
   "cell_type": "code",
   "execution_count": 163,
   "metadata": {
    "scrolled": true
   },
   "outputs": [
    {
     "name": "stdout",
     "output_type": "stream",
     "text": [
      "7.0\n"
     ]
    }
   ],
   "source": [
    "Q1 = df['total_items'].quantile(0.25)\n",
    "Q3 = df['total_items'].quantile(0.75)\n",
    "IQR = Q3 - Q1\n",
    "upper_limit = Q3 + 1.5 * IQR\n",
    "print(upper_limit)"
   ]
  },
  {
   "cell_type": "code",
   "execution_count": 164,
   "metadata": {},
   "outputs": [],
   "source": [
    "df=df[df['total_items'] <= 7]"
   ]
  },
  {
   "cell_type": "code",
   "execution_count": 165,
   "metadata": {},
   "outputs": [
    {
     "name": "stdout",
     "output_type": "stream",
     "text": [
      "5063.0\n"
     ]
    }
   ],
   "source": [
    "Q1 = df['subtotal'].quantile(0.25)\n",
    "Q3 = df['subtotal'].quantile(0.75)\n",
    "IQR = Q3 - Q1\n",
    "upper_limit = Q3 +  IQR\n",
    "print(upper_limit)"
   ]
  },
  {
   "cell_type": "code",
   "execution_count": 166,
   "metadata": {},
   "outputs": [],
   "source": [
    "df = df[(df['subtotal']<=5063.0 )]"
   ]
  },
  {
   "cell_type": "code",
   "execution_count": 167,
   "metadata": {},
   "outputs": [
    {
     "data": {
      "text/plain": [
       "<AxesSubplot:ylabel='subtotal'>"
      ]
     },
     "execution_count": 167,
     "metadata": {},
     "output_type": "execute_result"
    },
    {
     "data": {
      "image/png": "[encoded data removed]",
      "text/plain": [
       "<Figure size 432x288 with 1 Axes>"
      ]
     },
     "metadata": {
      "needs_background": "light"
     },
     "output_type": "display_data"
    }
   ],
   "source": [
    "sns.boxplot(y='subtotal',data=df)"
   ]
  },
  {
   "cell_type": "code",
   "execution_count": 168,
   "metadata": {},
   "outputs": [
    {
     "name": "stdout",
     "output_type": "stream",
     "text": [
      "1600.0\n"
     ]
    }
   ],
   "source": [
    "Q1 = df['min_item_price'].quantile(0.25)\n",
    "Q3 = df['min_item_price'].quantile(0.75)\n",
    "IQR = Q3 - Q1\n",
    "upper_limit = Q3 +  IQR\n",
    "print(upper_limit)"
   ]
  },
  {
   "cell_type": "code",
   "execution_count": 169,
   "metadata": {},
   "outputs": [],
   "source": [
    "df=df[df['min_item_price'] <= 1600]"
   ]
  },
  {
   "cell_type": "code",
   "execution_count": 170,
   "metadata": {},
   "outputs": [
    {
     "data": {
      "text/plain": [
       "<AxesSubplot:ylabel='min_item_price'>"
      ]
     },
     "execution_count": 170,
     "metadata": {},
     "output_type": "execute_result"
    },
    {
     "data": {
      "image/png": "[encoded data removed]",
      "text/plain": [
       "<Figure size 432x288 with 1 Axes>"
      ]
     },
     "metadata": {
      "needs_background": "light"
     },
     "output_type": "display_data"
    }
   ],
   "source": [
    "sns.boxplot(y='min_item_price',data=df)"
   ]
  },
  {
   "cell_type": "code",
   "execution_count": 171,
   "metadata": {},
   "outputs": [
    {
     "name": "stdout",
     "output_type": "stream",
     "text": [
      "1795.0\n"
     ]
    }
   ],
   "source": [
    "Q1 = df['max_item_price'].quantile(0.25)\n",
    "Q3 = df['max_item_price'].quantile(0.75)\n",
    "IQR = Q3 - Q1\n",
    "upper_limit = Q3 +  IQR\n",
    "print(upper_limit)"
   ]
  },
  {
   "cell_type": "code",
   "execution_count": 172,
   "metadata": {},
   "outputs": [],
   "source": [
    "df=df[df['max_item_price'] <= 1795.0]"
   ]
  },
  {
   "cell_type": "code",
   "execution_count": 173,
   "metadata": {},
   "outputs": [
    {
     "data": {
      "text/plain": [
       "<AxesSubplot:ylabel='max_item_price'>"
      ]
     },
     "execution_count": 173,
     "metadata": {},
     "output_type": "execute_result"
    },
    {
     "data": {
      "image/png": "[encoded data removed]",
      "text/plain": [
       "<Figure size 432x288 with 1 Axes>"
      ]
     },
     "metadata": {
      "needs_background": "light"
     },
     "output_type": "display_data"
    }
   ],
   "source": [
    "sns.boxplot(y='max_item_price',data=df)"
   ]
  },
  {
   "cell_type": "code",
   "execution_count": 174,
   "metadata": {},
   "outputs": [
    {
     "name": "stdout",
     "output_type": "stream",
     "text": [
      "123.0\n"
     ]
    }
   ],
   "source": [
    "Q1 = df['total_onshift_partners'].quantile(0.25)\n",
    "Q3 = df['total_onshift_partners'].quantile(0.75)\n",
    "IQR = Q3 - Q1\n",
    "upper_limit = Q3 + 1.5* IQR\n",
    "print(upper_limit)"
   ]
  },
  {
   "cell_type": "code",
   "execution_count": 175,
   "metadata": {},
   "outputs": [],
   "source": [
    "df=df[df['total_outstanding_orders'] <= 123.0]"
   ]
  },
  {
   "cell_type": "code",
   "execution_count": 176,
   "metadata": {},
   "outputs": [
    {
     "data": {
      "text/plain": [
       "<AxesSubplot:ylabel='total_outstanding_orders'>"
      ]
     },
     "execution_count": 176,
     "metadata": {},
     "output_type": "execute_result"
    },
    {
     "data": {
      "image/png": "[encoded data removed]",
      "text/plain": [
       "<Figure size 432x288 with 1 Axes>"
      ]
     },
     "metadata": {
      "needs_background": "light"
     },
     "output_type": "display_data"
    }
   ],
   "source": [
    "sns.boxplot(y='total_outstanding_orders',data=df)"
   ]
  },
  {
   "cell_type": "code",
   "execution_count": 177,
   "metadata": {},
   "outputs": [
    {
     "name": "stdout",
     "output_type": "stream",
     "text": [
      "96.5\n"
     ]
    }
   ],
   "source": [
    "Q1 = df['total_busy_partners'].quantile(0.25)\n",
    "Q3 = df['total_busy_partners'].quantile(0.75)\n",
    "IQR = Q3 - Q1\n",
    "upper_limit = Q3 + 1.5 * IQR\n",
    "print(upper_limit)"
   ]
  },
  {
   "cell_type": "code",
   "execution_count": 178,
   "metadata": {},
   "outputs": [],
   "source": [
    "df=df[df['total_outstanding_orders'] <= 121.0]"
   ]
  },
  {
   "cell_type": "code",
   "execution_count": 179,
   "metadata": {},
   "outputs": [
    {
     "data": {
      "text/plain": [
       "<AxesSubplot:ylabel='total_outstanding_orders'>"
      ]
     },
     "execution_count": 179,
     "metadata": {},
     "output_type": "execute_result"
    },
    {
     "data": {
      "image/png": "[encoded data removed]",
      "text/plain": [
       "<Figure size 432x288 with 1 Axes>"
      ]
     },
     "metadata": {
      "needs_background": "light"
     },
     "output_type": "display_data"
    }
   ],
   "source": [
    "sns.boxplot(y='total_outstanding_orders',data=df)"
   ]
  },
  {
   "cell_type": "code",
   "execution_count": 180,
   "metadata": {},
   "outputs": [
    {
     "name": "stdout",
     "output_type": "stream",
     "text": [
      "121.52236815976852\n"
     ]
    }
   ],
   "source": [
    "Q1 = df['total_outstanding_orders'].quantile(0.25)\n",
    "Q3 = df['total_outstanding_orders'].quantile(0.75)\n",
    "IQR = Q3 - Q1\n",
    "upper_limit = Q3 + 1.5* IQR\n",
    "print(upper_limit)"
   ]
  },
  {
   "cell_type": "code",
   "execution_count": 181,
   "metadata": {},
   "outputs": [],
   "source": [
    "df=df[df['total_outstanding_orders'] <= 163.0]"
   ]
  },
  {
   "cell_type": "code",
   "execution_count": 182,
   "metadata": {},
   "outputs": [
    {
     "data": {
      "text/plain": [
       "<AxesSubplot:ylabel='total_outstanding_orders'>"
      ]
     },
     "execution_count": 182,
     "metadata": {},
     "output_type": "execute_result"
    },
    {
     "data": {
      "image/png": "[encoded data removed]",
      "text/plain": [
       "<Figure size 432x288 with 1 Axes>"
      ]
     },
     "metadata": {
      "needs_background": "light"
     },
     "output_type": "display_data"
    }
   ],
   "source": [
    "sns.boxplot(y='total_outstanding_orders',data=df)"
   ]
  },
  {
   "cell_type": "code",
   "execution_count": 183,
   "metadata": {},
   "outputs": [
    {
     "name": "stdout",
     "output_type": "stream",
     "text": [
      "73.15\n"
     ]
    }
   ],
   "source": [
    "Q1 = df['Delivery Time'].quantile(0.25)\n",
    "Q3 = df['Delivery Time'].quantile(0.75)\n",
    "IQR = Q3 - Q1\n",
    "upper_limit = Q3 +  IQR\n",
    "print(upper_limit)"
   ]
  },
  {
   "cell_type": "code",
   "execution_count": 184,
   "metadata": {},
   "outputs": [],
   "source": [
    "df=df[(df['Delivery Time'] <= 73.15) & (df['Delivery Time'] > 7)]"
   ]
  },
  {
   "cell_type": "code",
   "execution_count": 185,
   "metadata": {},
   "outputs": [
    {
     "data": {
      "text/plain": [
       "<AxesSubplot:ylabel='Delivery Time'>"
      ]
     },
     "execution_count": 185,
     "metadata": {},
     "output_type": "execute_result"
    },
    {
     "data": {
      "image/png": "[encoded data removed]",
      "text/plain": [
       "<Figure size 432x288 with 1 Axes>"
      ]
     },
     "metadata": {
      "needs_background": "light"
     },
     "output_type": "display_data"
    }
   ],
   "source": [
    "sns.boxplot(y='Delivery Time',data=df)"
   ]
  },
  {
   "cell_type": "markdown",
   "metadata": {},
   "source": [
    "All the outliers have been removed"
   ]
  },
  {
   "cell_type": "code",
   "execution_count": 186,
   "metadata": {},
   "outputs": [],
   "source": [
    "## Now check for skewness agvain"
   ]
  },
  {
   "cell_type": "code",
   "execution_count": 187,
   "metadata": {},
   "outputs": [
    {
     "data": {
      "image/png": "[encoded data removed]",
      "text/plain": [
       "<Figure size 432x288 with 1 Axes>"
      ]
     },
     "metadata": {
      "needs_background": "light"
     },
     "output_type": "display_data"
    },
    {
     "data": {
      "image/png": "[encoded data removed]",
      "text/plain": [
       "<Figure size 432x288 with 1 Axes>"
      ]
     },
     "metadata": {
      "needs_background": "light"
     },
     "output_type": "display_data"
    },
    {
     "data": {
      "image/png": "[encoded data removed]",
      "text/plain": [
       "<Figure size 432x288 with 1 Axes>"
      ]
     },
     "metadata": {
      "needs_background": "light"
     },
     "output_type": "display_data"
    },
    {
     "data": {
      "image/png": "[encoded data removed]",
      "text/plain": [
       "<Figure size 432x288 with 1 Axes>"
      ]
     },
     "metadata": {
      "needs_background": "light"
     },
     "output_type": "display_data"
    },
    {
     "data": {
      "image/png": "[encoded data removed]",
      "text/plain": [
       "<Figure size 432x288 with 1 Axes>"
      ]
     },
     "metadata": {
      "needs_background": "light"
     },
     "output_type": "display_data"
    },
    {
     "data": {
      "image/png": "[encoded data removed]",
      "text/plain": [
       "<Figure size 432x288 with 1 Axes>"
      ]
     },
     "metadata": {
      "needs_background": "light"
     },
     "output_type": "display_data"
    },
    {
     "data": {
      "image/png": "[encoded data removed]",
      "text/plain": [
       "<Figure size 432x288 with 1 Axes>"
      ]
     },
     "metadata": {
      "needs_background": "light"
     },
     "output_type": "display_data"
    },
    {
     "data": {
      "image/png": "[encoded data removed]",
      "text/plain": [
       "<Figure size 432x288 with 1 Axes>"
      ]
     },
     "metadata": {
      "needs_background": "light"
     },
     "output_type": "display_data"
    }
   ],
   "source": [
    "continuous_features = ['total_items','subtotal','min_item_price','max_item_price','total_onshift_partners','total_busy_partners','total_outstanding_orders','Delivery Time']\n",
    "\n",
    "for feature in continuous_features:\n",
    "    data1=df.copy()\n",
    "    data1[feature].hist(bins=25)\n",
    "    plt.xlabel(feature)\n",
    "    plt.ylabel('Count')\n",
    "    plt.title(feature)\n",
    "    plt.show()"
   ]
  },
  {
   "cell_type": "code",
   "execution_count": 188,
   "metadata": {},
   "outputs": [
    {
     "name": "stdout",
     "output_type": "stream",
     "text": [
      "total_items 0.8914091865246323\n",
      "subtotal 0.7183589718092218\n",
      "min_item_price 0.48320482989260016\n",
      "max_item_price -0.018899225486960675\n",
      "total_onshift_partners 0.7570630226447412\n",
      "total_busy_partners 0.6939813079545394\n",
      "total_outstanding_orders 0.617508031435429\n",
      "Delivery Time 0.35143446643456394\n"
     ]
    }
   ],
   "source": [
    "for col in continuous_features:\n",
    "    skewness= skew(data1[col])\n",
    "    print(col, skewness)"
   ]
  },
  {
   "cell_type": "markdown",
   "metadata": {},
   "source": [
    "Observation As seen there is  no skewness in data after removing outliers."
   ]
  },
  {
   "cell_type": "code",
   "execution_count": 189,
   "metadata": {},
   "outputs": [
    {
     "data": {
      "text/html": [
       "<div>\n",
       "<style scoped>\n",
       "    .dataframe tbody tr th:only-of-type {\n",
       "        vertical-align: middle;\n",
       "    }\n",
       "\n",
       "    .dataframe tbody tr th {\n",
       "        vertical-align: top;\n",
       "    }\n",
       "\n",
       "    .dataframe thead th {\n",
       "        text-align: right;\n",
       "    }\n",
       "</style>\n",
       "<table border=\"1\" class=\"dataframe\">\n",
       "  <thead>\n",
       "    <tr style=\"text-align: right;\">\n",
       "      <th></th>\n",
       "      <th>market_id</th>\n",
       "      <th>order_protocol</th>\n",
       "      <th>total_items</th>\n",
       "      <th>subtotal</th>\n",
       "      <th>num_distinct_items</th>\n",
       "      <th>min_item_price</th>\n",
       "      <th>max_item_price</th>\n",
       "      <th>total_onshift_partners</th>\n",
       "      <th>total_busy_partners</th>\n",
       "      <th>total_outstanding_orders</th>\n",
       "      <th>Delivery Time</th>\n",
       "    </tr>\n",
       "  </thead>\n",
       "  <tbody>\n",
       "    <tr>\n",
       "      <th>0</th>\n",
       "      <td>1.0</td>\n",
       "      <td>1.0</td>\n",
       "      <td>4</td>\n",
       "      <td>3441</td>\n",
       "      <td>4</td>\n",
       "      <td>557</td>\n",
       "      <td>1239</td>\n",
       "      <td>33.0</td>\n",
       "      <td>14.0</td>\n",
       "      <td>21.0</td>\n",
       "      <td>62.983333</td>\n",
       "    </tr>\n",
       "    <tr>\n",
       "      <th>1</th>\n",
       "      <td>2.0</td>\n",
       "      <td>2.0</td>\n",
       "      <td>1</td>\n",
       "      <td>1900</td>\n",
       "      <td>1</td>\n",
       "      <td>1400</td>\n",
       "      <td>1400</td>\n",
       "      <td>1.0</td>\n",
       "      <td>2.0</td>\n",
       "      <td>2.0</td>\n",
       "      <td>67.066667</td>\n",
       "    </tr>\n",
       "    <tr>\n",
       "      <th>8</th>\n",
       "      <td>2.0</td>\n",
       "      <td>3.0</td>\n",
       "      <td>4</td>\n",
       "      <td>4771</td>\n",
       "      <td>3</td>\n",
       "      <td>820</td>\n",
       "      <td>1604</td>\n",
       "      <td>8.0</td>\n",
       "      <td>6.0</td>\n",
       "      <td>18.0</td>\n",
       "      <td>26.433333</td>\n",
       "    </tr>\n",
       "    <tr>\n",
       "      <th>14</th>\n",
       "      <td>1.0</td>\n",
       "      <td>1.0</td>\n",
       "      <td>1</td>\n",
       "      <td>1525</td>\n",
       "      <td>1</td>\n",
       "      <td>1525</td>\n",
       "      <td>1525</td>\n",
       "      <td>5.0</td>\n",
       "      <td>6.0</td>\n",
       "      <td>8.0</td>\n",
       "      <td>37.883333</td>\n",
       "    </tr>\n",
       "    <tr>\n",
       "      <th>18</th>\n",
       "      <td>1.0</td>\n",
       "      <td>1.0</td>\n",
       "      <td>2</td>\n",
       "      <td>3150</td>\n",
       "      <td>2</td>\n",
       "      <td>1425</td>\n",
       "      <td>1725</td>\n",
       "      <td>4.0</td>\n",
       "      <td>9.0</td>\n",
       "      <td>12.0</td>\n",
       "      <td>71.600000</td>\n",
       "    </tr>\n",
       "    <tr>\n",
       "      <th>...</th>\n",
       "      <td>...</td>\n",
       "      <td>...</td>\n",
       "      <td>...</td>\n",
       "      <td>...</td>\n",
       "      <td>...</td>\n",
       "      <td>...</td>\n",
       "      <td>...</td>\n",
       "      <td>...</td>\n",
       "      <td>...</td>\n",
       "      <td>...</td>\n",
       "      <td>...</td>\n",
       "    </tr>\n",
       "    <tr>\n",
       "      <th>197423</th>\n",
       "      <td>1.0</td>\n",
       "      <td>4.0</td>\n",
       "      <td>3</td>\n",
       "      <td>1389</td>\n",
       "      <td>3</td>\n",
       "      <td>345</td>\n",
       "      <td>649</td>\n",
       "      <td>17.0</td>\n",
       "      <td>17.0</td>\n",
       "      <td>23.0</td>\n",
       "      <td>65.116667</td>\n",
       "    </tr>\n",
       "    <tr>\n",
       "      <th>197424</th>\n",
       "      <td>1.0</td>\n",
       "      <td>4.0</td>\n",
       "      <td>6</td>\n",
       "      <td>3010</td>\n",
       "      <td>4</td>\n",
       "      <td>405</td>\n",
       "      <td>825</td>\n",
       "      <td>12.0</td>\n",
       "      <td>11.0</td>\n",
       "      <td>14.0</td>\n",
       "      <td>56.383333</td>\n",
       "    </tr>\n",
       "    <tr>\n",
       "      <th>197425</th>\n",
       "      <td>1.0</td>\n",
       "      <td>4.0</td>\n",
       "      <td>5</td>\n",
       "      <td>1836</td>\n",
       "      <td>3</td>\n",
       "      <td>300</td>\n",
       "      <td>399</td>\n",
       "      <td>39.0</td>\n",
       "      <td>41.0</td>\n",
       "      <td>40.0</td>\n",
       "      <td>50.133333</td>\n",
       "    </tr>\n",
       "    <tr>\n",
       "      <th>197426</th>\n",
       "      <td>1.0</td>\n",
       "      <td>1.0</td>\n",
       "      <td>1</td>\n",
       "      <td>1175</td>\n",
       "      <td>1</td>\n",
       "      <td>535</td>\n",
       "      <td>535</td>\n",
       "      <td>7.0</td>\n",
       "      <td>7.0</td>\n",
       "      <td>12.0</td>\n",
       "      <td>65.116667</td>\n",
       "    </tr>\n",
       "    <tr>\n",
       "      <th>197427</th>\n",
       "      <td>1.0</td>\n",
       "      <td>1.0</td>\n",
       "      <td>4</td>\n",
       "      <td>2605</td>\n",
       "      <td>4</td>\n",
       "      <td>425</td>\n",
       "      <td>750</td>\n",
       "      <td>20.0</td>\n",
       "      <td>20.0</td>\n",
       "      <td>23.0</td>\n",
       "      <td>37.133333</td>\n",
       "    </tr>\n",
       "  </tbody>\n",
       "</table>\n",
       "<p>128142 rows × 11 columns</p>\n",
       "</div>"
      ],
      "text/plain": [
       "        market_id  order_protocol  total_items  subtotal  num_distinct_items  \\\n",
       "0             1.0             1.0            4      3441                   4   \n",
       "1             2.0             2.0            1      1900                   1   \n",
       "8             2.0             3.0            4      4771                   3   \n",
       "14            1.0             1.0            1      1525                   1   \n",
       "18            1.0             1.0            2      3150                   2   \n",
       "...           ...             ...          ...       ...                 ...   \n",
       "197423        1.0             4.0            3      1389                   3   \n",
       "197424        1.0             4.0            6      3010                   4   \n",
       "197425        1.0             4.0            5      1836                   3   \n",
       "197426        1.0             1.0            1      1175                   1   \n",
       "197427        1.0             1.0            4      2605                   4   \n",
       "\n",
       "        min_item_price  max_item_price  total_onshift_partners  \\\n",
       "0                  557            1239                    33.0   \n",
       "1                 1400            1400                     1.0   \n",
       "8                  820            1604                     8.0   \n",
       "14                1525            1525                     5.0   \n",
       "18                1425            1725                     4.0   \n",
       "...                ...             ...                     ...   \n",
       "197423             345             649                    17.0   \n",
       "197424             405             825                    12.0   \n",
       "197425             300             399                    39.0   \n",
       "197426             535             535                     7.0   \n",
       "197427             425             750                    20.0   \n",
       "\n",
       "        total_busy_partners  total_outstanding_orders  Delivery Time  \n",
       "0                      14.0                      21.0      62.983333  \n",
       "1                       2.0                       2.0      67.066667  \n",
       "8                       6.0                      18.0      26.433333  \n",
       "14                      6.0                       8.0      37.883333  \n",
       "18                      9.0                      12.0      71.600000  \n",
       "...                     ...                       ...            ...  \n",
       "197423                 17.0                      23.0      65.116667  \n",
       "197424                 11.0                      14.0      56.383333  \n",
       "197425                 41.0                      40.0      50.133333  \n",
       "197426                  7.0                      12.0      65.116667  \n",
       "197427                 20.0                      23.0      37.133333  \n",
       "\n",
       "[128142 rows x 11 columns]"
      ]
     },
     "execution_count": 189,
     "metadata": {},
     "output_type": "execute_result"
    }
   ],
   "source": [
    "df"
   ]
  },
  {
   "cell_type": "code",
   "execution_count": 190,
   "metadata": {},
   "outputs": [],
   "source": [
    "## Business Question\n",
    "\n",
    "### Build the model to find estimate time for delivery considering related factors\n",
    "\n",
    "### hypothesis 1 \n",
    "### Null Hypothesis H0: There is no significant relationship between Delivery time and total_items\n",
    "#### H1: There is  significant relationship between Delivery time and total_items\n",
    "\n",
    "\n",
    "### Hypothesis 2\n",
    "### Null Hypothesis H0: There is no significant relationship between Delivery time and total_outstadning_order\n",
    "#### H1: There is  significant relationship between Delivery time and total_outstanding_order"
   ]
  },
  {
   "cell_type": "markdown",
   "metadata": {},
   "source": [
    "#### Business Question:\n",
    "Determining which factor will affect the delivery time."
   ]
  },
  {
   "cell_type": "markdown",
   "metadata": {},
   "source": [
    "#### Hypothesis 1\n",
    "H0: There is no significant relation between Delivery Time and total_items\n",
    "\n",
    "\n",
    "H1: There is significant relationship between Delivery Time and total_items"
   ]
  },
  {
   "cell_type": "markdown",
   "metadata": {},
   "source": [
    "#### Hypothesis 2\n",
    "H0: There is no significant relationship between Delivery time and total_busy_partners\n",
    "\n",
    "H1: There is  significant relationship between Delivery time and total_busy_partners"
   ]
  },
  {
   "cell_type": "markdown",
   "metadata": {},
   "source": [
    "#### Correlation Test"
   ]
  },
  {
   "cell_type": "code",
   "execution_count": 216,
   "metadata": {},
   "outputs": [
    {
     "name": "stdout",
     "output_type": "stream",
     "text": [
      "0.1103\n",
      "0.0\n"
     ]
    }
   ],
   "source": [
    "r,p =stats.pearsonr(df['Delivery Time'], df['total_items'])\n",
    "print(round(r,4))\n",
    "print(round(p,4))"
   ]
  },
  {
   "cell_type": "code",
   "execution_count": 217,
   "metadata": {},
   "outputs": [
    {
     "name": "stdout",
     "output_type": "stream",
     "text": [
      "0.0062\n",
      "0.0264\n"
     ]
    }
   ],
   "source": [
    "r,p =stats.pearsonr(df['Delivery Time'], df['total_busy_partners'])\n",
    "print(round(r,4))\n",
    "print(round(p,4))"
   ]
  },
  {
   "cell_type": "markdown",
   "metadata": {},
   "source": [
    "### Linear Regression"
   ]
  },
  {
   "cell_type": "markdown",
   "metadata": {},
   "source": [
    "### For Hypothesis 1"
   ]
  },
  {
   "cell_type": "code",
   "execution_count": 197,
   "metadata": {},
   "outputs": [],
   "source": [
    "y = df['Delivery Time']\n",
    "x = df['total_items']"
   ]
  },
  {
   "cell_type": "code",
   "execution_count": 198,
   "metadata": {},
   "outputs": [],
   "source": [
    "x = sm.add_constant(x)"
   ]
  },
  {
   "cell_type": "code",
   "execution_count": 199,
   "metadata": {},
   "outputs": [],
   "source": [
    "model = sm.OLS(y, x)"
   ]
  },
  {
   "cell_type": "code",
   "execution_count": 200,
   "metadata": {},
   "outputs": [],
   "source": [
    "results = model.fit()"
   ]
  },
  {
   "cell_type": "code",
   "execution_count": 201,
   "metadata": {},
   "outputs": [
    {
     "name": "stdout",
     "output_type": "stream",
     "text": [
      "                            OLS Regression Results                            \n",
      "==============================================================================\n",
      "Dep. Variable:          Delivery Time   R-squared:                       0.012\n",
      "Model:                            OLS   Adj. R-squared:                  0.012\n",
      "Method:                 Least Squares   F-statistic:                     1577.\n",
      "Date:                Sat, 29 Apr 2023   Prob (F-statistic):               0.00\n",
      "Time:                        09:45:45   Log-Likelihood:            -5.0446e+05\n",
      "No. Observations:              128142   AIC:                         1.009e+06\n",
      "Df Residuals:                  128140   BIC:                         1.009e+06\n",
      "Df Model:                           1                                         \n",
      "Covariance Type:            nonrobust                                         \n",
      "===============================================================================\n",
      "                  coef    std err          t      P>|t|      [0.025      0.975]\n",
      "-------------------------------------------------------------------------------\n",
      "const          39.4260      0.073    538.210      0.000      39.282      39.570\n",
      "total_items     0.9608      0.024     39.712      0.000       0.913       1.008\n",
      "==============================================================================\n",
      "Omnibus:                     4540.989   Durbin-Watson:                   1.755\n",
      "Prob(Omnibus):                  0.000   Jarque-Bera (JB):             3925.912\n",
      "Skew:                           0.364   Prob(JB):                         0.00\n",
      "Kurtosis:                       2.547   Cond. No.                         6.96\n",
      "==============================================================================\n",
      "\n",
      "Notes:\n",
      "[1] Standard Errors assume that the covariance matrix of the errors is correctly specified.\n"
     ]
    }
   ],
   "source": [
    "print(results.summary())"
   ]
  },
  {
   "cell_type": "markdown",
   "metadata": {},
   "source": [
    "### Observation: \n",
    "As p value is less than 0.05 so as number of item increases it might lead to increase in delivery time"
   ]
  },
  {
   "cell_type": "markdown",
   "metadata": {},
   "source": [
    "### For Hypothesis 2"
   ]
  },
  {
   "cell_type": "code",
   "execution_count": 208,
   "metadata": {},
   "outputs": [],
   "source": [
    "a = df['total_busy_partners']\n",
    "b = df['total_items']"
   ]
  },
  {
   "cell_type": "code",
   "execution_count": 209,
   "metadata": {},
   "outputs": [],
   "source": [
    "b = sm.add_constant(b)"
   ]
  },
  {
   "cell_type": "code",
   "execution_count": 210,
   "metadata": {},
   "outputs": [],
   "source": [
    "model1 = sm.OLS(a,b)"
   ]
  },
  {
   "cell_type": "code",
   "execution_count": 212,
   "metadata": {},
   "outputs": [],
   "source": [
    "result = model1.fit()"
   ]
  },
  {
   "cell_type": "code",
   "execution_count": 214,
   "metadata": {},
   "outputs": [
    {
     "name": "stdout",
     "output_type": "stream",
     "text": [
      "                             OLS Regression Results                            \n",
      "===============================================================================\n",
      "Dep. Variable:     total_busy_partners   R-squared:                       0.001\n",
      "Model:                             OLS   Adj. R-squared:                  0.001\n",
      "Method:                  Least Squares   F-statistic:                     92.85\n",
      "Date:                 Sat, 29 Apr 2023   Prob (F-statistic):           5.73e-22\n",
      "Time:                         10:05:09   Log-Likelihood:            -5.8401e+05\n",
      "No. Observations:               128142   AIC:                         1.168e+06\n",
      "Df Residuals:                   128140   BIC:                         1.168e+06\n",
      "Df Model:                            1                                         \n",
      "Covariance Type:             nonrobust                                         \n",
      "===============================================================================\n",
      "                  coef    std err          t      P>|t|      [0.025      0.975]\n",
      "-------------------------------------------------------------------------------\n",
      "const          32.3368      0.136    237.274      0.000      32.070      32.604\n",
      "total_items     0.4338      0.045      9.636      0.000       0.346       0.522\n",
      "==============================================================================\n",
      "Omnibus:                     8661.859   Durbin-Watson:                   1.014\n",
      "Prob(Omnibus):                  0.000   Jarque-Bera (JB):            10515.542\n",
      "Skew:                           0.691   Prob(JB):                         0.00\n",
      "Kurtosis:                       3.239   Cond. No.                         6.96\n",
      "==============================================================================\n",
      "\n",
      "Notes:\n",
      "[1] Standard Errors assume that the covariance matrix of the errors is correctly specified.\n"
     ]
    }
   ],
   "source": [
    "print(result.summary())"
   ]
  },
  {
   "cell_type": "markdown",
   "metadata": {},
   "source": [
    "#### Observation:\n",
    "As p value is less than 0.05 so as more busy rider will lead to delay in other orders delivery."
   ]
  },
  {
   "cell_type": "code",
   "execution_count": null,
   "metadata": {},
   "outputs": [],
   "source": []
  }
 ],
 "metadata": {
  "kernelspec": {
   "display_name": "Python 3 (ipykernel)",
   "language": "python",
   "name": "python3"
  },
  "language_info": {
   "codemirror_mode": {
    "name": "ipython",
    "version": 3
   },
   "file_extension": ".py",
   "mimetype": "text/x-python",
   "name": "python",
   "nbconvert_exporter": "python",
   "pygments_lexer": "ipython3",
   "version": "3.9.7"
  }
 },
 "nbformat": 4,
 "nbformat_minor": 2
}
